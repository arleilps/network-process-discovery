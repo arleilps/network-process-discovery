{
 "cells": [
  {
   "cell_type": "code",
   "execution_count": 1,
   "metadata": {
    "collapsed": false
   },
   "outputs": [],
   "source": [
    "import networkx\n",
    "import math\n",
    "import scipy.optimize\n",
    "import numpy\n",
    "import sys\n",
    "from lib.vis import *\n",
    "from lib.graph_signal_proc import *\n",
    "from lib.optimal_cut import *\n",
    "from lib.time_graph import *\n",
    "from lib.io import *\n",
    "\n",
    "from scipy import linalg\n",
    "import matplotlib.pyplot as plt\n",
    "from IPython.display import Image\n",
    "from numpy.linalg import eigh"
   ]
  },
  {
   "cell_type": "code",
   "execution_count": 2,
   "metadata": {
    "collapsed": false
   },
   "outputs": [],
   "source": [
    "G = TimeGraph(5)\n",
    "\n",
    "G.add_edge(0,1,0)\n",
    "G.add_edge(1,2,0)\n",
    "G.add_edge(1,4,0)\n",
    "G.add_edge(3,4,0)\n",
    "G.add_edge(4,5,0)\n",
    "\n",
    "G.add_edge(0,1,1)\n",
    "G.add_edge(1,2,1)\n",
    "G.add_edge(1,4,1)\n",
    "G.add_edge(3,4,1)\n",
    "G.add_edge(4,5,1)\n",
    "\n",
    "G.add_edge(0,1,2)\n",
    "G.add_edge(1,2,2)\n",
    "G.add_edge(1,4,2)\n",
    "G.add_edge(3,4,2)\n",
    "G.add_edge(4,5,2)\n",
    "\n",
    "G.add_edge(0,1,3)\n",
    "G.add_edge(1,2,3)\n",
    "G.add_edge(1,4,3)\n",
    "G.add_edge(3,4,3)\n",
    "G.add_edge(4,5,3)\n",
    "\n",
    "G.add_edge(0,1,4)\n",
    "G.add_edge(1,2,4)\n",
    "G.add_edge(1,4,4)\n",
    "G.add_edge(3,4,4)\n",
    "G.add_edge(4,5,4)\n",
    "\n",
    "G.add_edge(0,1,5)\n",
    "G.add_edge(1,2,5)\n",
    "G.add_edge(1,4,5)\n",
    "G.add_edge(3,4,5)\n",
    "G.add_edge(4,5,5)"
   ]
  },
  {
   "cell_type": "code",
   "execution_count": 19,
   "metadata": {
    "collapsed": false
   },
   "outputs": [],
   "source": [
    "G = TimeGraph(0)\n",
    "\n",
    "G.add_edge(0,1,0)\n",
    "G.add_edge(1,2,0)\n",
    "\n",
    "G.add_edge(0,1,1)\n",
    "G.add_edge(0,2,1)\n",
    "\n",
    "G.add_edge(0,1,2)\n",
    "G.add_edge(0,2,2)"
   ]
  },
  {
   "cell_type": "code",
   "execution_count": 2,
   "metadata": {
    "collapsed": true
   },
   "outputs": [],
   "source": [
    "G = TimeGraph()\n",
    "\n",
    "G.add_edge(0,1,0)\n",
    "G.add_edge(1,2,0)\n",
    "G.add_edge(1,4,0)\n",
    "G.add_edge(3,4,0)\n",
    "G.add_edge(4,5,0)\n",
    "\n",
    "G.add_edge(0,1,1)\n",
    "G.add_edge(1,2,1)\n",
    "G.add_edge(1,4,1)\n",
    "G.add_edge(3,4,1)\n",
    "G.add_edge(4,5,1)\n",
    "\n",
    "G.add_edge(0,1,2)\n",
    "G.add_edge(1,2,2)\n",
    "G.add_edge(1,4,2)\n",
    "G.add_edge(3,4,2)\n",
    "G.add_edge(4,5,2)\n",
    "\n",
    "G.add_edge(0,1,3)\n",
    "G.add_edge(1,2,3)\n",
    "G.add_edge(1,4,3)\n",
    "G.add_edge(3,4,3)\n",
    "G.add_edge(4,5,3)"
   ]
  },
  {
   "cell_type": "code",
   "execution_count": 72,
   "metadata": {
    "collapsed": true
   },
   "outputs": [],
   "source": [
    "G = TimeGraph()\n",
    "\n",
    "G.add_edge(0,1,0)\n",
    "G.add_edge(0,1,1)\n",
    "G.add_edge(0,1,2)\n",
    "G.add_edge(0,1,3)\n",
    "G.add_edge(0,1,4)\n",
    "G.add_edge(0,1,5)\n",
    "G.add_edge(0,1,6)\n",
    "G.add_edge(0,1,7)\n",
    "G.add_edge(0,1,8)\n",
    "G.add_edge(0,1,9)\n",
    "G.add_edge(0,1,10)\n",
    "G.add_edge(0,1,11)"
   ]
  },
  {
   "cell_type": "code",
   "execution_count": 10,
   "metadata": {
    "collapsed": false
   },
   "outputs": [],
   "source": [
    "G = read_time_graph('/home/arlei/Phd/research/network_process/data/facebook/facebook_dyn.graph', 10)"
   ]
  },
  {
   "cell_type": "code",
   "execution_count": 65,
   "metadata": {
    "collapsed": false
   },
   "outputs": [
    {
     "data": {
      "text/plain": [
       "2"
      ]
     },
     "execution_count": 65,
     "metadata": {},
     "output_type": "execute_result"
    }
   ],
   "source": [
    "G.size()"
   ]
  },
  {
   "cell_type": "code",
   "execution_count": 8,
   "metadata": {
    "collapsed": false
   },
   "outputs": [
    {
     "data": {
      "text/plain": [
       "{'weight': 1.0}"
      ]
     },
     "execution_count": 8,
     "metadata": {},
     "output_type": "execute_result"
    }
   ],
   "source": [
    "G.graphs[0].edge[1][0]"
   ]
  },
  {
   "cell_type": "code",
   "execution_count": 20,
   "metadata": {
    "collapsed": false
   },
   "outputs": [
    {
     "data": {
      "text/plain": [
       "matrix([[ 30.,  -6.,  -6., ...,   0.,   0.,   0.],\n",
       "        [ -6.,  30.,  -6., ...,   0.,   0.,   0.],\n",
       "        [ -6.,  -6.,  30., ...,   0.,   0.,   0.],\n",
       "        ..., \n",
       "        [  0.,   0.,   0., ...,  30.,  -6.,  -6.],\n",
       "        [  0.,   0.,   0., ...,  -6.,  30.,  -6.],\n",
       "        [  0.,   0.,   0., ...,  -6.,  -6.,  30.]])"
      ]
     },
     "execution_count": 20,
     "metadata": {},
     "output_type": "execute_result"
    }
   ],
   "source": [
    "numpy.dot(C.todense(), C.todense())"
   ]
  },
  {
   "cell_type": "code",
   "execution_count": 7,
   "metadata": {
    "collapsed": false
   },
   "outputs": [
    {
     "data": {
      "text/plain": [
       "array([-1.13829045, -0.63921021, -1.13829045,  1.13829045,  0.63921021,\n",
       "        1.13829045, -1.13829045, -0.63921021, -1.13829045,  1.13829045,\n",
       "        0.63921021,  1.13829045, -1.13829045, -0.63921021, -1.13829045,\n",
       "        1.13829045,  0.63921021,  1.13829045, -1.13829045, -0.63921021,\n",
       "       -1.13829045,  1.13829045,  0.63921021,  1.13829045, -1.13829045,\n",
       "       -0.63921021, -1.13829045,  1.13829045,  0.63921021,  1.13829045,\n",
       "       -1.13829045, -0.63921021, -1.13829045,  1.13829045,  0.63921021,\n",
       "        1.13829045])"
      ]
     },
     "execution_count": 7,
     "metadata": {},
     "output_type": "execute_result"
    }
   ],
   "source": [
    "L = create_laplacian_matrix(G)\n",
    "C = create_c_matrix(G)\n",
    "\n",
    "M = scipy.sparse.csr_matrix.dot(scipy.sparse.csr_matrix.dot(C, L), C)\n",
    "(eigvals, eigvecs) = scipy.sparse.linalg.eigs(M, k=G.num_snaps()+1, which='SM') \n",
    "scipy.sparse.csr_matrix.dot(eigvecs[:,0], C).real"
   ]
  },
  {
   "cell_type": "code",
   "execution_count": 5,
   "metadata": {
    "collapsed": false
   },
   "outputs": [
    {
     "data": {
      "text/plain": [
       "array([ -2.67538813e-09,   3.82460436e-09,  -7.36158106e-09,\n",
       "         2.04811049e-08,   1.04779966e-08,  -2.47467370e-08,\n",
       "         3.07454940e-02,  -4.16940845e-01,  -4.47686361e-01,\n",
       "        -3.07454652e-02,   4.16940862e-01,   4.47686315e-01,\n",
       "         1.75407790e-03,   1.91067391e-01,   1.89313306e-01,\n",
       "        -1.75407750e-03,  -1.91067388e-01,  -1.89313309e-01,\n",
       "         3.50989914e-02,  -3.57654096e-01,  -3.92753119e-01,\n",
       "        -3.50989964e-02,   3.57654114e-01,   3.92753106e-01,\n",
       "        -6.75985349e-02,   5.83527586e-01,   6.51126129e-01,\n",
       "         6.75985134e-02,  -5.83527594e-01,  -6.51126100e-01,\n",
       "        -1.88089428e-08,  -3.69426438e-09,   3.57503714e-09,\n",
       "         1.73920902e-08,  -1.46827400e-09,   3.00435454e-09])"
      ]
     },
     "execution_count": 5,
     "metadata": {},
     "output_type": "execute_result"
    }
   ],
   "source": [
    "x"
   ]
  },
  {
   "cell_type": "code",
   "execution_count": 44,
   "metadata": {
    "collapsed": false
   },
   "outputs": [
    {
     "data": {
      "text/plain": [
       "array([-0.23235257, -0.13047824, -0.23235257,  0.23235257,  0.13047824,\n",
       "        0.23235257, -0.23235257, -0.13047824, -0.23235257,  0.23235257,\n",
       "        0.13047824,  0.23235257, -0.23235257, -0.13047824, -0.23235257,\n",
       "        0.23235257,  0.13047824,  0.23235257, -0.23235257, -0.13047824,\n",
       "       -0.23235257,  0.23235257,  0.13047824,  0.23235257])"
      ]
     },
     "execution_count": 44,
     "metadata": {},
     "output_type": "execute_result"
    }
   ],
   "source": [
    "eigvecs[:,numpy.argsort(eigvals.real)[G.num_snaps()]]"
   ]
  },
  {
   "cell_type": "code",
   "execution_count": 7,
   "metadata": {
    "collapsed": false
   },
   "outputs": [
    {
     "data": {
      "text/plain": [
       "array([-0.0275733 ,  0.09820375, -0.0275733 ,  0.0275733 , -0.09820375,\n",
       "        0.0275733 ,  0.07533165, -0.26829763,  0.07533165, -0.07533165,\n",
       "        0.26829763, -0.07533165, -0.10290494,  0.36650138, -0.10290494,\n",
       "        0.10290494, -0.36650138,  0.10290494,  0.10290494, -0.36650138,\n",
       "        0.10290494, -0.10290494,  0.36650138, -0.10290494, -0.07533165,\n",
       "        0.26829763, -0.07533165,  0.07533165, -0.26829763,  0.07533165,\n",
       "        0.0275733 , -0.09820375,  0.0275733 , -0.0275733 ,  0.09820375,\n",
       "       -0.0275733 ])"
      ]
     },
     "execution_count": 7,
     "metadata": {},
     "output_type": "execute_result"
    }
   ],
   "source": [
    "power_method(M, 1000)"
   ]
  },
  {
   "cell_type": "code",
   "execution_count": 8,
   "metadata": {
    "collapsed": false
   },
   "outputs": [
    {
     "data": {
      "text/plain": [
       "matrix([[ -1.87350135e-16,  -6.08887940e-16,   7.28583860e-17,\n",
       "          -1.05124243e-15,   2.97158131e-15,  -1.19695920e-15,\n",
       "          -1.11022302e-16,  -7.19910243e-16,  -3.81639165e-17,\n",
       "          -1.05818132e-15,   3.04790915e-15,  -1.12063137e-15,\n",
       "          -1.11022302e-16,  -7.19910243e-16,  -3.81639165e-17,\n",
       "          -1.05818132e-15,   3.04790915e-15,  -1.12063137e-15,\n",
       "          -1.11022302e-16,  -7.19910243e-16,  -3.81639165e-17,\n",
       "          -1.05818132e-15,   3.04790915e-15,  -1.12063137e-15,\n",
       "          -1.82145965e-16,  -6.45317133e-16,   2.60208521e-17,\n",
       "          -1.17093835e-15,   3.05484804e-15,  -1.08246745e-15,\n",
       "           1.31838984e-16,  -9.03790931e-16,  -3.98986399e-17,\n",
       "          -8.56953397e-16,   3.04097025e-15,  -1.37216627e-15]])"
      ]
     },
     "execution_count": 8,
     "metadata": {},
     "output_type": "execute_result"
    }
   ],
   "source": [
    "scipy.sparse.csr_matrix.dot(e, C)"
   ]
  },
  {
   "cell_type": "code",
   "execution_count": 6,
   "metadata": {
    "collapsed": false
   },
   "outputs": [
    {
     "data": {
      "text/plain": [
       "array([[-0.46470513, -0.26095647, -0.46470513,  0.46470513,  0.26095647,\n",
       "         0.46470513, -0.46470513, -0.26095647, -0.46470513,  0.46470513,\n",
       "         0.26095647,  0.46470513, -0.46470513, -0.26095647, -0.46470513,\n",
       "         0.46470513,  0.26095647,  0.46470513, -0.46470513, -0.26095647,\n",
       "        -0.46470513,  0.46470513,  0.26095647,  0.46470513, -0.46470513,\n",
       "        -0.26095647, -0.46470513,  0.46470513,  0.26095647,  0.46470513,\n",
       "        -0.46470513, -0.26095647, -0.46470513,  0.46470513,  0.26095647,\n",
       "         0.46470513]])"
      ]
     },
     "execution_count": 6,
     "metadata": {},
     "output_type": "execute_result"
    }
   ],
   "source": [
    "L = create_laplacian_matrix(G).todense()\n",
    "C = create_c_matrix(G).todense()\n",
    "\n",
    "sqrtC = sqrtm(C)\n",
    "isqrtC = sqrtm(scipy.linalg.pinv(C))\n",
    "M = numpy.dot(numpy.dot(isqrtC, L), isqrtC)\n",
    "\n",
    "#(eigvals, eigvecs) = scipy.linalg.eigh(M, eigvals=(G.num_snaps()+1, G.num_snaps()+1))\n",
    "\n",
    "#M = scipy.dot(scipy.dot(C, L), C)\n",
    "(eigvals, eigvecs) = scipy.linalg.eigh(M)\n",
    "numpy.asarray(scipy.dot(eigvecs[:,numpy.argsort(eigvals.real)[G.num_snaps()]], sqrtC))"
   ]
  },
  {
   "cell_type": "code",
   "execution_count": 73,
   "metadata": {
    "collapsed": false
   },
   "outputs": [],
   "source": [
    "#x = eigen_vec_cut_prod(G)\n",
    "x = eigen_vec_cut_inv(G)\n",
    "#x = fast_eigen_vec_cut(G, 10)\n",
    "c = sweep(G, x)"
   ]
  },
  {
   "cell_type": "code",
   "execution_count": 74,
   "metadata": {
    "collapsed": false
   },
   "outputs": [
    {
     "data": {
      "image/svg+xml": [
       "<svg height=\"1200.0\" version=\"1.1\" width=\"200.0\" xmlns=\"http://www.w3.org/2000/svg\" xmlns:sodipodi=\"http://sodipodi.sourceforge.net/DTD/sodipodi-0.dtd\" xmlns:xlink=\"http://www.w3.org/1999/xlink\">\n",
       "  <defs/>\n",
       "  <g id=\"id0:id0\" transform=\"matrix(1.24992187988,0,0,1.25,0.0,0.0)\"><g class=\"graph\" id=\"id0:graph0\" transform=\"scale(1 1) rotate(0) translate(4 76)\">\n",
       "<title>G</title>\n",
       "<polygon fill=\"white\" points=\"-4,4 -4,-76 156.008,-76 156.008,4 -4,4\" stroke=\"none\"/>\n",
       "<!-- 0 -->\n",
       "<g class=\"node\" id=\"id0:node1\"><title>0</title>\n",
       "<ellipse cx=\"116.008\" cy=\"-36\" fill=\"#ff0000\" rx=\"36\" ry=\"36\" stroke=\"black\" stroke-width=\"2\"/>\n",
       "</g>\n",
       "<!-- 1 -->\n",
       "<g class=\"node\" id=\"id0:node2\"><title>1</title>\n",
       "<ellipse cx=\"36\" cy=\"-36\" fill=\"#0000ff\" rx=\"36\" ry=\"36\" stroke=\"black\" stroke-width=\"2\"/>\n",
       "</g>\n",
       "<!-- 0&#45;&#45;1 -->\n",
       "<g class=\"edge\" id=\"id0:edge1\"><title>0--1</title>\n",
       "<path d=\"M79.7495,-36C77.2687,-36 74.7686,-36 72.2877,-36\" fill=\"none\" stroke=\"black\"/>\n",
       "</g>\n",
       "</g>\n",
       "</g>\n",
       "  <g id=\"id1:id1\" transform=\"matrix(1.24992187988,0,0,1.25,0.0,100.0)\"><g class=\"graph\" id=\"id1:graph0\" transform=\"scale(1 1) rotate(0) translate(4 76)\">\n",
       "<title>G</title>\n",
       "<polygon fill=\"white\" points=\"-4,4 -4,-76 156.008,-76 156.008,4 -4,4\" stroke=\"none\"/>\n",
       "<!-- 0 -->\n",
       "<g class=\"node\" id=\"id1:node1\"><title>0</title>\n",
       "<ellipse cx=\"116.008\" cy=\"-36\" fill=\"#fe0100\" rx=\"36\" ry=\"36\" stroke=\"black\" stroke-width=\"2\"/>\n",
       "</g>\n",
       "<!-- 1 -->\n",
       "<g class=\"node\" id=\"id1:node2\"><title>1</title>\n",
       "<ellipse cx=\"36\" cy=\"-36\" fill=\"#0001fe\" rx=\"36\" ry=\"36\" stroke=\"black\" stroke-width=\"2\"/>\n",
       "</g>\n",
       "<!-- 0&#45;&#45;1 -->\n",
       "<g class=\"edge\" id=\"id1:edge1\"><title>0--1</title>\n",
       "<path d=\"M79.7495,-36C77.2687,-36 74.7686,-36 72.2877,-36\" fill=\"none\" stroke=\"black\"/>\n",
       "</g>\n",
       "</g>\n",
       "</g>\n",
       "  <g id=\"id2:id2\" transform=\"matrix(1.24992187988,0,0,1.25,0.0,200.0)\"><g class=\"graph\" id=\"id2:graph0\" transform=\"scale(1 1) rotate(0) translate(4 76)\">\n",
       "<title>G</title>\n",
       "<polygon fill=\"white\" points=\"-4,4 -4,-76 156.008,-76 156.008,4 -4,4\" stroke=\"none\"/>\n",
       "<!-- 0 -->\n",
       "<g class=\"node\" id=\"id2:node1\"><title>0</title>\n",
       "<ellipse cx=\"116.008\" cy=\"-36\" fill=\"#fe0100\" rx=\"36\" ry=\"36\" stroke=\"black\" stroke-width=\"2\"/>\n",
       "</g>\n",
       "<!-- 1 -->\n",
       "<g class=\"node\" id=\"id2:node2\"><title>1</title>\n",
       "<ellipse cx=\"36\" cy=\"-36\" fill=\"#0001fe\" rx=\"36\" ry=\"36\" stroke=\"black\" stroke-width=\"2\"/>\n",
       "</g>\n",
       "<!-- 0&#45;&#45;1 -->\n",
       "<g class=\"edge\" id=\"id2:edge1\"><title>0--1</title>\n",
       "<path d=\"M79.7495,-36C77.2687,-36 74.7686,-36 72.2877,-36\" fill=\"none\" stroke=\"black\"/>\n",
       "</g>\n",
       "</g>\n",
       "</g>\n",
       "  <g id=\"id3:id3\" transform=\"matrix(1.24992187988,0,0,1.25,0.0,300.0)\"><g class=\"graph\" id=\"id3:graph0\" transform=\"scale(1 1) rotate(0) translate(4 76)\">\n",
       "<title>G</title>\n",
       "<polygon fill=\"white\" points=\"-4,4 -4,-76 156.008,-76 156.008,4 -4,4\" stroke=\"none\"/>\n",
       "<!-- 0 -->\n",
       "<g class=\"node\" id=\"id3:node1\"><title>0</title>\n",
       "<ellipse cx=\"116.008\" cy=\"-36\" fill=\"#fe0100\" rx=\"36\" ry=\"36\" stroke=\"black\" stroke-width=\"2\"/>\n",
       "</g>\n",
       "<!-- 1 -->\n",
       "<g class=\"node\" id=\"id3:node2\"><title>1</title>\n",
       "<ellipse cx=\"36\" cy=\"-36\" fill=\"#0001fe\" rx=\"36\" ry=\"36\" stroke=\"black\" stroke-width=\"2\"/>\n",
       "</g>\n",
       "<!-- 0&#45;&#45;1 -->\n",
       "<g class=\"edge\" id=\"id3:edge1\"><title>0--1</title>\n",
       "<path d=\"M79.7495,-36C77.2687,-36 74.7686,-36 72.2877,-36\" fill=\"none\" stroke=\"black\"/>\n",
       "</g>\n",
       "</g>\n",
       "</g>\n",
       "  <g id=\"id4:id4\" transform=\"matrix(1.24992187988,0,0,1.25,0.0,400.0)\"><g class=\"graph\" id=\"id4:graph0\" transform=\"scale(1 1) rotate(0) translate(4 76)\">\n",
       "<title>G</title>\n",
       "<polygon fill=\"white\" points=\"-4,4 -4,-76 156.008,-76 156.008,4 -4,4\" stroke=\"none\"/>\n",
       "<!-- 0 -->\n",
       "<g class=\"node\" id=\"id4:node1\"><title>0</title>\n",
       "<ellipse cx=\"116.008\" cy=\"-36\" fill=\"#fe0100\" rx=\"36\" ry=\"36\" stroke=\"black\" stroke-width=\"2\"/>\n",
       "</g>\n",
       "<!-- 1 -->\n",
       "<g class=\"node\" id=\"id4:node2\"><title>1</title>\n",
       "<ellipse cx=\"36\" cy=\"-36\" fill=\"#0001fe\" rx=\"36\" ry=\"36\" stroke=\"black\" stroke-width=\"2\"/>\n",
       "</g>\n",
       "<!-- 0&#45;&#45;1 -->\n",
       "<g class=\"edge\" id=\"id4:edge1\"><title>0--1</title>\n",
       "<path d=\"M79.7495,-36C77.2687,-36 74.7686,-36 72.2877,-36\" fill=\"none\" stroke=\"black\"/>\n",
       "</g>\n",
       "</g>\n",
       "</g>\n",
       "  <g id=\"id5:id5\" transform=\"matrix(1.24992187988,0,0,1.25,0.0,500.0)\"><g class=\"graph\" id=\"id5:graph0\" transform=\"scale(1 1) rotate(0) translate(4 76)\">\n",
       "<title>G</title>\n",
       "<polygon fill=\"white\" points=\"-4,4 -4,-76 156.008,-76 156.008,4 -4,4\" stroke=\"none\"/>\n",
       "<!-- 0 -->\n",
       "<g class=\"node\" id=\"id5:node1\"><title>0</title>\n",
       "<ellipse cx=\"116.008\" cy=\"-36\" fill=\"#fe0100\" rx=\"36\" ry=\"36\" stroke=\"black\" stroke-width=\"2\"/>\n",
       "</g>\n",
       "<!-- 1 -->\n",
       "<g class=\"node\" id=\"id5:node2\"><title>1</title>\n",
       "<ellipse cx=\"36\" cy=\"-36\" fill=\"#0001fe\" rx=\"36\" ry=\"36\" stroke=\"black\" stroke-width=\"2\"/>\n",
       "</g>\n",
       "<!-- 0&#45;&#45;1 -->\n",
       "<g class=\"edge\" id=\"id5:edge1\"><title>0--1</title>\n",
       "<path d=\"M79.7495,-36C77.2687,-36 74.7686,-36 72.2877,-36\" fill=\"none\" stroke=\"black\"/>\n",
       "</g>\n",
       "</g>\n",
       "</g>\n",
       "  <g id=\"id6:id6\" transform=\"matrix(1.24992187988,0,0,1.25,0.0,600.0)\"><g class=\"graph\" id=\"id6:graph0\" transform=\"scale(1 1) rotate(0) translate(4 76)\">\n",
       "<title>G</title>\n",
       "<polygon fill=\"white\" points=\"-4,4 -4,-76 156.008,-76 156.008,4 -4,4\" stroke=\"none\"/>\n",
       "<!-- 0 -->\n",
       "<g class=\"node\" id=\"id6:node1\"><title>0</title>\n",
       "<ellipse cx=\"116.008\" cy=\"-36\" fill=\"#fe0100\" rx=\"36\" ry=\"36\" stroke=\"black\" stroke-width=\"2\"/>\n",
       "</g>\n",
       "<!-- 1 -->\n",
       "<g class=\"node\" id=\"id6:node2\"><title>1</title>\n",
       "<ellipse cx=\"36\" cy=\"-36\" fill=\"#0001fe\" rx=\"36\" ry=\"36\" stroke=\"black\" stroke-width=\"2\"/>\n",
       "</g>\n",
       "<!-- 0&#45;&#45;1 -->\n",
       "<g class=\"edge\" id=\"id6:edge1\"><title>0--1</title>\n",
       "<path d=\"M79.7495,-36C77.2687,-36 74.7686,-36 72.2877,-36\" fill=\"none\" stroke=\"black\"/>\n",
       "</g>\n",
       "</g>\n",
       "</g>\n",
       "  <g id=\"id7:id7\" transform=\"matrix(1.24992187988,0,0,1.25,0.0,700.0)\"><g class=\"graph\" id=\"id7:graph0\" transform=\"scale(1 1) rotate(0) translate(4 76)\">\n",
       "<title>G</title>\n",
       "<polygon fill=\"white\" points=\"-4,4 -4,-76 156.008,-76 156.008,4 -4,4\" stroke=\"none\"/>\n",
       "<!-- 0 -->\n",
       "<g class=\"node\" id=\"id7:node1\"><title>0</title>\n",
       "<ellipse cx=\"116.008\" cy=\"-36\" fill=\"#fe0100\" rx=\"36\" ry=\"36\" stroke=\"black\" stroke-width=\"2\"/>\n",
       "</g>\n",
       "<!-- 1 -->\n",
       "<g class=\"node\" id=\"id7:node2\"><title>1</title>\n",
       "<ellipse cx=\"36\" cy=\"-36\" fill=\"#0001fe\" rx=\"36\" ry=\"36\" stroke=\"black\" stroke-width=\"2\"/>\n",
       "</g>\n",
       "<!-- 0&#45;&#45;1 -->\n",
       "<g class=\"edge\" id=\"id7:edge1\"><title>0--1</title>\n",
       "<path d=\"M79.7495,-36C77.2687,-36 74.7686,-36 72.2877,-36\" fill=\"none\" stroke=\"black\"/>\n",
       "</g>\n",
       "</g>\n",
       "</g>\n",
       "  <g id=\"id8:id8\" transform=\"matrix(1.24992187988,0,0,1.25,0.0,800.0)\"><g class=\"graph\" id=\"id8:graph0\" transform=\"scale(1 1) rotate(0) translate(4 76)\">\n",
       "<title>G</title>\n",
       "<polygon fill=\"white\" points=\"-4,4 -4,-76 156.008,-76 156.008,4 -4,4\" stroke=\"none\"/>\n",
       "<!-- 0 -->\n",
       "<g class=\"node\" id=\"id8:node1\"><title>0</title>\n",
       "<ellipse cx=\"116.008\" cy=\"-36\" fill=\"#fe0100\" rx=\"36\" ry=\"36\" stroke=\"black\" stroke-width=\"2\"/>\n",
       "</g>\n",
       "<!-- 1 -->\n",
       "<g class=\"node\" id=\"id8:node2\"><title>1</title>\n",
       "<ellipse cx=\"36\" cy=\"-36\" fill=\"#0001fe\" rx=\"36\" ry=\"36\" stroke=\"black\" stroke-width=\"2\"/>\n",
       "</g>\n",
       "<!-- 0&#45;&#45;1 -->\n",
       "<g class=\"edge\" id=\"id8:edge1\"><title>0--1</title>\n",
       "<path d=\"M79.7495,-36C77.2687,-36 74.7686,-36 72.2877,-36\" fill=\"none\" stroke=\"black\"/>\n",
       "</g>\n",
       "</g>\n",
       "</g>\n",
       "  <g id=\"id9:id9\" transform=\"matrix(1.24992187988,0,0,1.25,0.0,900.0)\"><g class=\"graph\" id=\"id9:graph0\" transform=\"scale(1 1) rotate(0) translate(4 76)\">\n",
       "<title>G</title>\n",
       "<polygon fill=\"white\" points=\"-4,4 -4,-76 156.008,-76 156.008,4 -4,4\" stroke=\"none\"/>\n",
       "<!-- 0 -->\n",
       "<g class=\"node\" id=\"id9:node1\"><title>0</title>\n",
       "<ellipse cx=\"116.008\" cy=\"-36\" fill=\"#fe0100\" rx=\"36\" ry=\"36\" stroke=\"black\" stroke-width=\"2\"/>\n",
       "</g>\n",
       "<!-- 1 -->\n",
       "<g class=\"node\" id=\"id9:node2\"><title>1</title>\n",
       "<ellipse cx=\"36\" cy=\"-36\" fill=\"#0001fe\" rx=\"36\" ry=\"36\" stroke=\"black\" stroke-width=\"2\"/>\n",
       "</g>\n",
       "<!-- 0&#45;&#45;1 -->\n",
       "<g class=\"edge\" id=\"id9:edge1\"><title>0--1</title>\n",
       "<path d=\"M79.7495,-36C77.2687,-36 74.7686,-36 72.2877,-36\" fill=\"none\" stroke=\"black\"/>\n",
       "</g>\n",
       "</g>\n",
       "</g>\n",
       "  <g id=\"id10:id10\" transform=\"matrix(1.24992187988,0,0,1.25,0.0,1000.0)\"><g class=\"graph\" id=\"id10:graph0\" transform=\"scale(1 1) rotate(0) translate(4 76)\">\n",
       "<title>G</title>\n",
       "<polygon fill=\"white\" points=\"-4,4 -4,-76 156.008,-76 156.008,4 -4,4\" stroke=\"none\"/>\n",
       "<!-- 0 -->\n",
       "<g class=\"node\" id=\"id10:node1\"><title>0</title>\n",
       "<ellipse cx=\"116.008\" cy=\"-36\" fill=\"#fe0100\" rx=\"36\" ry=\"36\" stroke=\"black\" stroke-width=\"2\"/>\n",
       "</g>\n",
       "<!-- 1 -->\n",
       "<g class=\"node\" id=\"id10:node2\"><title>1</title>\n",
       "<ellipse cx=\"36\" cy=\"-36\" fill=\"#0001fe\" rx=\"36\" ry=\"36\" stroke=\"black\" stroke-width=\"2\"/>\n",
       "</g>\n",
       "<!-- 0&#45;&#45;1 -->\n",
       "<g class=\"edge\" id=\"id10:edge1\"><title>0--1</title>\n",
       "<path d=\"M79.7495,-36C77.2687,-36 74.7686,-36 72.2877,-36\" fill=\"none\" stroke=\"black\"/>\n",
       "</g>\n",
       "</g>\n",
       "</g>\n",
       "  <g id=\"id11:id11\" transform=\"matrix(1.24992187988,0,0,1.25,0.0,1100.0)\"><g class=\"graph\" id=\"id11:graph0\" transform=\"scale(1 1) rotate(0) translate(4 76)\">\n",
       "<title>G</title>\n",
       "<polygon fill=\"white\" points=\"-4,4 -4,-76 156.008,-76 156.008,4 -4,4\" stroke=\"none\"/>\n",
       "<!-- 0 -->\n",
       "<g class=\"node\" id=\"id11:node1\"><title>0</title>\n",
       "<ellipse cx=\"116.008\" cy=\"-36\" fill=\"#fe0100\" rx=\"36\" ry=\"36\" stroke=\"black\" stroke-width=\"2\"/>\n",
       "</g>\n",
       "<!-- 1 -->\n",
       "<g class=\"node\" id=\"id11:node2\"><title>1</title>\n",
       "<ellipse cx=\"36\" cy=\"-36\" fill=\"#0001fe\" rx=\"36\" ry=\"36\" stroke=\"black\" stroke-width=\"2\"/>\n",
       "</g>\n",
       "<!-- 0&#45;&#45;1 -->\n",
       "<g class=\"edge\" id=\"id11:edge1\"><title>0--1</title>\n",
       "<path d=\"M79.7495,-36C77.2687,-36 74.7686,-36 72.2877,-36\" fill=\"none\" stroke=\"black\"/>\n",
       "</g>\n",
       "</g>\n",
       "</g>\n",
       "</svg>"
      ],
      "text/plain": [
       "<IPython.core.display.SVG object>"
      ]
     },
     "execution_count": 74,
     "metadata": {},
     "output_type": "execute_result"
    }
   ],
   "source": [
    "draw_time_graph_eig(G, x, \"synthetic.svg\")\n",
    "\n",
    "#draw_time_graph(G, \"synthetic.svg\")\n",
    "\n",
    "from IPython.display import SVG\n",
    "\n",
    "SVG(filename='synthetic.svg')"
   ]
  },
  {
   "cell_type": "code",
   "execution_count": 7,
   "metadata": {
    "collapsed": false
   },
   "outputs": [
    {
     "data": {
      "text/plain": [
       "array([ 1.62221421, -0.32444284, -0.32444284, -0.32444284, -0.32444284,\n",
       "       -0.32444284,  0.        ,  0.        ,  0.        ,  0.        ,\n",
       "        0.        ,  0.        ,  0.        ,  0.        ,  0.        ,\n",
       "        0.        ,  0.        ,  0.        ,  0.        ,  0.        ,\n",
       "        0.        ,  0.        ,  0.        ,  0.        ,  0.        ,\n",
       "        0.        ,  0.        ,  0.        ,  0.        ,  0.        ,\n",
       "        0.        ,  0.        ,  0.        ,  0.        ,  0.        ,  0.        ])"
      ]
     },
     "execution_count": 7,
     "metadata": {},
     "output_type": "execute_result"
    }
   ],
   "source": [
    "x"
   ]
  },
  {
   "cell_type": "code",
   "execution_count": 3,
   "metadata": {
    "collapsed": false
   },
   "outputs": [
    {
     "data": {
      "text/plain": [
       "array([ 1.48028421,  0.6103221 ,  0.70523667, -1.01995046, -0.61550165,\n",
       "       -1.16039086,  1.52371962,  0.61037858,  0.66174478, -0.96326328,\n",
       "       -0.61544517, -1.21713453,  1.56698558,  0.61043506,  0.61842233,\n",
       "       -0.88481283, -0.61538869, -1.29564146,  1.56698558,  0.61043506,\n",
       "        0.61842233, -0.82135983, -0.61538869, -1.35909446,  1.52371962,\n",
       "        0.61037858,  0.66174478, -0.7861471 , -0.61544517, -1.3942507 ,\n",
       "        1.48028421,  0.6103221 ,  0.70523667, -0.7728671 , -0.61550165,\n",
       "       -1.40747423])"
      ]
     },
     "execution_count": 3,
     "metadata": {},
     "output_type": "execute_result"
    }
   ],
   "source": [
    "fast_eigen_vec_cut(G, 10)"
   ]
  },
  {
   "cell_type": "code",
   "execution_count": 9,
   "metadata": {
    "collapsed": false
   },
   "outputs": [],
   "source": [
    "set_f(G.g, numpy.ones(len(G.g.nodes())))"
   ]
  },
  {
   "cell_type": "code",
   "execution_count": 14,
   "metadata": {
    "collapsed": false
   },
   "outputs": [
    {
     "data": {
      "text/plain": [
       "1.0"
      ]
     },
     "execution_count": 14,
     "metadata": {},
     "output_type": "execute_result"
    }
   ],
   "source": [
    "G.g.node[0][\"value\"]"
   ]
  },
  {
   "cell_type": "code",
   "execution_count": 18,
   "metadata": {
    "collapsed": false
   },
   "outputs": [
    {
     "data": {
      "text/plain": [
       "1.0"
      ]
     },
     "execution_count": 18,
     "metadata": {},
     "output_type": "execute_result"
    }
   ],
   "source": [
    "g.node[3][\"value\"]"
   ]
  },
  {
   "cell_type": "code",
   "execution_count": 17,
   "metadata": {
    "collapsed": false
   },
   "outputs": [
    {
     "data": {
      "text/plain": [
       "[3, 4, 5]"
      ]
     },
     "execution_count": 17,
     "metadata": {},
     "output_type": "execute_result"
    }
   ],
   "source": [
    "g.nodes()"
   ]
  },
  {
   "cell_type": "code",
   "execution_count": 13,
   "metadata": {
    "collapsed": true
   },
   "outputs": [],
   "source": [
    "x = numpy.array([1., 1., -1.])"
   ]
  },
  {
   "cell_type": "code",
   "execution_count": 18,
   "metadata": {
    "collapsed": false
   },
   "outputs": [
    {
     "data": {
      "text/plain": [
       "9.0"
      ]
     },
     "execution_count": 18,
     "metadata": {},
     "output_type": "execute_result"
    }
   ],
   "source": [
    "numpy.dot(numpy.dot(x, D), x)"
   ]
  },
  {
   "cell_type": "code",
   "execution_count": 17,
   "metadata": {
    "collapsed": true
   },
   "outputs": [],
   "source": [
    "D = 3*numpy.identity(3)"
   ]
  },
  {
   "cell_type": "code",
   "execution_count": 21,
   "metadata": {
    "collapsed": true
   },
   "outputs": [],
   "source": [
    "C = create_c_matrix(G).todense()"
   ]
  },
  {
   "cell_type": "code",
   "execution_count": 94,
   "metadata": {
    "collapsed": false
   },
   "outputs": [],
   "source": [
    "G = networkx.fast_gnp_random_graph(10, .4)"
   ]
  },
  {
   "cell_type": "code",
   "execution_count": 95,
   "metadata": {
    "collapsed": false
   },
   "outputs": [],
   "source": [
    "L = networkx.laplacian_matrix(G).todense()"
   ]
  },
  {
   "cell_type": "code",
   "execution_count": 96,
   "metadata": {
    "collapsed": false
   },
   "outputs": [],
   "source": [
    "(eigvals, eigvecs) = scipy.linalg.eig(L)"
   ]
  },
  {
   "cell_type": "code",
   "execution_count": 97,
   "metadata": {
    "collapsed": false
   },
   "outputs": [
    {
     "data": {
      "text/plain": [
       "array([ 0.00000000+0.j,  1.07027852+0.j,  7.04228044+0.j,  6.58769963+0.j,\n",
       "        6.22438509+0.j,  2.33194233+0.j,  5.10784377+0.j,  4.42546150+0.j,\n",
       "        3.69010591+0.j,  3.52000281+0.j])"
      ]
     },
     "execution_count": 97,
     "metadata": {},
     "output_type": "execute_result"
    }
   ],
   "source": [
    "eigvals"
   ]
  },
  {
   "cell_type": "code",
   "execution_count": 81,
   "metadata": {
    "collapsed": false
   },
   "outputs": [
    {
     "data": {
      "text/plain": [
       "matrix([[ 0,  0,  0,  0,  0,  0,  0,  0,  0,  0],\n",
       "        [ 0,  0,  0,  0,  0,  0,  0,  0,  0,  0],\n",
       "        [ 0,  0,  1,  0,  0,  0, -1,  0,  0,  0],\n",
       "        [ 0,  0,  0,  0,  0,  0,  0,  0,  0,  0],\n",
       "        [ 0,  0,  0,  0,  1,  0,  0,  0,  0, -1],\n",
       "        [ 0,  0,  0,  0,  0,  1,  0,  0, -1,  0],\n",
       "        [ 0,  0, -1,  0,  0,  0,  1,  0,  0,  0],\n",
       "        [ 0,  0,  0,  0,  0,  0,  0,  0,  0,  0],\n",
       "        [ 0,  0,  0,  0,  0, -1,  0,  0,  1,  0],\n",
       "        [ 0,  0,  0,  0, -1,  0,  0,  0,  0,  1]], dtype=int64)"
      ]
     },
     "execution_count": 81,
     "metadata": {},
     "output_type": "execute_result"
    }
   ],
   "source": [
    "L"
   ]
  },
  {
   "cell_type": "code",
   "execution_count": 38,
   "metadata": {
    "collapsed": true
   },
   "outputs": [],
   "source": []
  },
  {
   "cell_type": "code",
   "execution_count": 50,
   "metadata": {
    "collapsed": false
   },
   "outputs": [
    {
     "data": {
      "text/plain": [
       "array([ 0.        ,  0.        ,  0.        ,  0.        ,  0.        ,\n",
       "        0.        ,  0.        ,  0.        ,  0.        ,  0.        ,\n",
       "        0.        ,  0.        ,  0.        ,  0.        ,  0.        ,\n",
       "        0.        , -0.70710678,  0.70710678,  0.        ,  0.        ,\n",
       "        0.        ,  0.        ,  0.        ,  0.        ])"
      ]
     },
     "execution_count": 50,
     "metadata": {},
     "output_type": "execute_result"
    }
   ],
   "source": [
    "eigvecs[:,17]"
   ]
  },
  {
   "cell_type": "code",
   "execution_count": 51,
   "metadata": {
    "collapsed": true
   },
   "outputs": [],
   "source": [
    "x = eigen_vec_cut_prod(G)"
   ]
  },
  {
   "cell_type": "code",
   "execution_count": 66,
   "metadata": {
    "collapsed": false
   },
   "outputs": [
    {
     "data": {
      "text/plain": [
       "array([ 0.,  0.,  0.,  0.,  0.,  0.,  0.,  0.,  0.,  0.,  0.,  0.,  0.,\n",
       "        0.,  0.,  0.,  0.,  0.,  0.,  0.,  0.,  0.,  1., -1.])"
      ]
     },
     "execution_count": 66,
     "metadata": {},
     "output_type": "execute_result"
    }
   ],
   "source": [
    "x"
   ]
  },
  {
   "cell_type": "code",
   "execution_count": 70,
   "metadata": {
    "collapsed": false
   },
   "outputs": [
    {
     "data": {
      "text/plain": [
       "matrix([[ 1., -1.,  0.,  0.,  0.,  0.,  0.,  0.,  0.,  0.,  0.,  0.,  0.,\n",
       "          0.,  0.,  0.,  0.,  0.,  0.,  0.,  0.,  0.,  0.,  0.],\n",
       "        [-1.,  1.,  0.,  0.,  0.,  0.,  0.,  0.,  0.,  0.,  0.,  0.,  0.,\n",
       "          0.,  0.,  0.,  0.,  0.,  0.,  0.,  0.,  0.,  0.,  0.],\n",
       "        [ 0.,  0.,  1., -1.,  0.,  0.,  0.,  0.,  0.,  0.,  0.,  0.,  0.,\n",
       "          0.,  0.,  0.,  0.,  0.,  0.,  0.,  0.,  0.,  0.,  0.],\n",
       "        [ 0.,  0., -1.,  1.,  0.,  0.,  0.,  0.,  0.,  0.,  0.,  0.,  0.,\n",
       "          0.,  0.,  0.,  0.,  0.,  0.,  0.,  0.,  0.,  0.,  0.],\n",
       "        [ 0.,  0.,  0.,  0.,  1., -1.,  0.,  0.,  0.,  0.,  0.,  0.,  0.,\n",
       "          0.,  0.,  0.,  0.,  0.,  0.,  0.,  0.,  0.,  0.,  0.],\n",
       "        [ 0.,  0.,  0.,  0., -1.,  1.,  0.,  0.,  0.,  0.,  0.,  0.,  0.,\n",
       "          0.,  0.,  0.,  0.,  0.,  0.,  0.,  0.,  0.,  0.,  0.],\n",
       "        [ 0.,  0.,  0.,  0.,  0.,  0.,  1., -1.,  0.,  0.,  0.,  0.,  0.,\n",
       "          0.,  0.,  0.,  0.,  0.,  0.,  0.,  0.,  0.,  0.,  0.],\n",
       "        [ 0.,  0.,  0.,  0.,  0.,  0., -1.,  1.,  0.,  0.,  0.,  0.,  0.,\n",
       "          0.,  0.,  0.,  0.,  0.,  0.,  0.,  0.,  0.,  0.,  0.],\n",
       "        [ 0.,  0.,  0.,  0.,  0.,  0.,  0.,  0.,  1., -1.,  0.,  0.,  0.,\n",
       "          0.,  0.,  0.,  0.,  0.,  0.,  0.,  0.,  0.,  0.,  0.],\n",
       "        [ 0.,  0.,  0.,  0.,  0.,  0.,  0.,  0., -1.,  1.,  0.,  0.,  0.,\n",
       "          0.,  0.,  0.,  0.,  0.,  0.,  0.,  0.,  0.,  0.,  0.],\n",
       "        [ 0.,  0.,  0.,  0.,  0.,  0.,  0.,  0.,  0.,  0.,  1., -1.,  0.,\n",
       "          0.,  0.,  0.,  0.,  0.,  0.,  0.,  0.,  0.,  0.,  0.],\n",
       "        [ 0.,  0.,  0.,  0.,  0.,  0.,  0.,  0.,  0.,  0., -1.,  1.,  0.,\n",
       "          0.,  0.,  0.,  0.,  0.,  0.,  0.,  0.,  0.,  0.,  0.],\n",
       "        [ 0.,  0.,  0.,  0.,  0.,  0.,  0.,  0.,  0.,  0.,  0.,  0.,  1.,\n",
       "         -1.,  0.,  0.,  0.,  0.,  0.,  0.,  0.,  0.,  0.,  0.],\n",
       "        [ 0.,  0.,  0.,  0.,  0.,  0.,  0.,  0.,  0.,  0.,  0.,  0., -1.,\n",
       "          1.,  0.,  0.,  0.,  0.,  0.,  0.,  0.,  0.,  0.,  0.],\n",
       "        [ 0.,  0.,  0.,  0.,  0.,  0.,  0.,  0.,  0.,  0.,  0.,  0.,  0.,\n",
       "          0.,  1., -1.,  0.,  0.,  0.,  0.,  0.,  0.,  0.,  0.],\n",
       "        [ 0.,  0.,  0.,  0.,  0.,  0.,  0.,  0.,  0.,  0.,  0.,  0.,  0.,\n",
       "          0., -1.,  1.,  0.,  0.,  0.,  0.,  0.,  0.,  0.,  0.],\n",
       "        [ 0.,  0.,  0.,  0.,  0.,  0.,  0.,  0.,  0.,  0.,  0.,  0.,  0.,\n",
       "          0.,  0.,  0.,  1., -1.,  0.,  0.,  0.,  0.,  0.,  0.],\n",
       "        [ 0.,  0.,  0.,  0.,  0.,  0.,  0.,  0.,  0.,  0.,  0.,  0.,  0.,\n",
       "          0.,  0.,  0., -1.,  1.,  0.,  0.,  0.,  0.,  0.,  0.],\n",
       "        [ 0.,  0.,  0.,  0.,  0.,  0.,  0.,  0.,  0.,  0.,  0.,  0.,  0.,\n",
       "          0.,  0.,  0.,  0.,  0.,  1., -1.,  0.,  0.,  0.,  0.],\n",
       "        [ 0.,  0.,  0.,  0.,  0.,  0.,  0.,  0.,  0.,  0.,  0.,  0.,  0.,\n",
       "          0.,  0.,  0.,  0.,  0., -1.,  1.,  0.,  0.,  0.,  0.],\n",
       "        [ 0.,  0.,  0.,  0.,  0.,  0.,  0.,  0.,  0.,  0.,  0.,  0.,  0.,\n",
       "          0.,  0.,  0.,  0.,  0.,  0.,  0.,  1., -1.,  0.,  0.],\n",
       "        [ 0.,  0.,  0.,  0.,  0.,  0.,  0.,  0.,  0.,  0.,  0.,  0.,  0.,\n",
       "          0.,  0.,  0.,  0.,  0.,  0.,  0., -1.,  1.,  0.,  0.],\n",
       "        [ 0.,  0.,  0.,  0.,  0.,  0.,  0.,  0.,  0.,  0.,  0.,  0.,  0.,\n",
       "          0.,  0.,  0.,  0.,  0.,  0.,  0.,  0.,  0.,  1., -1.],\n",
       "        [ 0.,  0.,  0.,  0.,  0.,  0.,  0.,  0.,  0.,  0.,  0.,  0.,  0.,\n",
       "          0.,  0.,  0.,  0.,  0.,  0.,  0.,  0.,  0., -1.,  1.]])"
      ]
     },
     "execution_count": 70,
     "metadata": {},
     "output_type": "execute_result"
    }
   ],
   "source": []
  },
  {
   "cell_type": "code",
   "execution_count": 71,
   "metadata": {
    "collapsed": false
   },
   "outputs": [
    {
     "data": {
      "text/plain": [
       "0"
      ]
     },
     "execution_count": 71,
     "metadata": {},
     "output_type": "execute_result"
    }
   ],
   "source": [
    "G.swap_cost()"
   ]
  },
  {
   "cell_type": "code",
   "execution_count": null,
   "metadata": {
    "collapsed": true
   },
   "outputs": [],
   "source": []
  }
 ],
 "metadata": {
  "kernelspec": {
   "display_name": "Python 3",
   "language": "python",
   "name": "python3"
  },
  "language_info": {
   "codemirror_mode": {
    "name": "ipython",
    "version": 3
   },
   "file_extension": ".py",
   "mimetype": "text/x-python",
   "name": "python",
   "nbconvert_exporter": "python",
   "pygments_lexer": "ipython3",
   "version": "3.4.3"
  }
 },
 "nbformat": 4,
 "nbformat_minor": 0
}
