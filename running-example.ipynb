{
 "cells": [
  {
   "cell_type": "code",
   "execution_count": 1,
   "metadata": {
    "collapsed": true
   },
   "outputs": [],
   "source": [
    "import networkx\n",
    "import math\n",
    "import scipy.optimize\n",
    "import numpy\n",
    "import sys\n",
    "from scipy import linalg\n",
    "import matplotlib.pyplot as plt\n",
    "from IPython.display import Image\n",
    "import pywt\n",
    "import scipy.fftpack\n",
    "import random\n",
    "import operator\n",
    "import copy\n",
    "from collections import deque\n",
    "from sklearn.preprocessing import normalize\n",
    "from sklearn.cluster import SpectralClustering\n",
    "from matplotlib.lines import Line2D\n",
    "from lib.io import *\n",
    "from lib.vis import *\n",
    "from lib.graph_signal_proc import *\n",
    "from lib.netpros import *\n",
    "from lib.syn import *\n",
    "from lib.experiments import *\n",
    "from lib.static import *\n",
    "from lib.datasets import *"
   ]
  },
  {
   "cell_type": "code",
   "execution_count": 2,
   "metadata": {
    "collapsed": false
   },
   "outputs": [],
   "source": [
    "F = numpy.array([8., 10., 10., -4., -6., -9., -9])\n",
    "\n",
    "G = networkx.Graph()\n",
    "G.add_edge(0,1)\n",
    "G.add_edge(0,2)\n",
    "G.add_edge(1,3)\n",
    "G.add_edge(2,3)\n",
    "G.add_edge(3,4)\n",
    "G.add_edge(4,5)\n",
    "G.add_edge(4,6)\n",
    "G.add_edge(5,6)"
   ]
  },
  {
   "cell_type": "code",
   "execution_count": 3,
   "metadata": {
    "collapsed": false
   },
   "outputs": [
    {
     "data": {
      "image/svg+xml": [
       "<svg height=\"144pt\" viewBox=\"0.00 0.00 417.61 144.00\" width=\"418pt\" xmlns=\"http://www.w3.org/2000/svg\" xmlns:xlink=\"http://www.w3.org/1999/xlink\">\n",
       "<g class=\"graph\" id=\"graph0\" transform=\"scale(0.761993 0.761993) rotate(0) translate(4 184.978)\">\n",
       "<title>G</title>\n",
       "<polygon fill=\"white\" points=\"-4,4 -4,-184.978 544.043,-184.978 544.043,4 -4,4\" stroke=\"none\"/>\n",
       "<!-- 0 -->\n",
       "<g class=\"node\" id=\"node1\"><title>0</title>\n",
       "<ellipse cx=\"36\" cy=\"-90.4104\" fill=\"#c93600\" rx=\"36\" ry=\"36\" stroke=\"black\" stroke-width=\"2\"/>\n",
       "</g>\n",
       "<!-- 1 -->\n",
       "<g class=\"node\" id=\"node2\"><title>1</title>\n",
       "<ellipse cx=\"124.606\" cy=\"-144.978\" fill=\"#ff0000\" rx=\"36\" ry=\"36\" stroke=\"black\" stroke-width=\"2\"/>\n",
       "</g>\n",
       "<!-- 0&#45;&#45;1 -->\n",
       "<g class=\"edge\" id=\"edge1\"><title>0--1</title>\n",
       "<path d=\"M66.9902,-109.496C75.6737,-114.843 85.1095,-120.654 93.7833,-125.996\" fill=\"none\" stroke=\"black\" stroke-width=\"2\"/>\n",
       "</g>\n",
       "<!-- 2 -->\n",
       "<g class=\"node\" id=\"node3\"><title>2</title>\n",
       "<ellipse cx=\"124.736\" cy=\"-36\" fill=\"#ff0000\" rx=\"36\" ry=\"36\" stroke=\"black\" stroke-width=\"2\"/>\n",
       "</g>\n",
       "<!-- 0&#45;&#45;2 -->\n",
       "<g class=\"edge\" id=\"edge2\"><title>0--2</title>\n",
       "<path d=\"M67.0354,-71.3803C75.7316,-66.048 85.1811,-60.2538 93.8676,-54.9275\" fill=\"none\" stroke=\"black\" stroke-width=\"2\"/>\n",
       "</g>\n",
       "<!-- 3 -->\n",
       "<g class=\"node\" id=\"node4\"><title>3</title>\n",
       "<ellipse cx=\"237.987\" cy=\"-90.469\" fill=\"#008778\" rx=\"36\" ry=\"36\" stroke=\"black\" stroke-width=\"2\"/>\n",
       "</g>\n",
       "<!-- 1&#45;&#45;3 -->\n",
       "<g class=\"edge\" id=\"edge3\"><title>1--3</title>\n",
       "<path d=\"M157.097,-129.358C172.278,-122.059 190.31,-113.39 205.492,-106.091\" fill=\"none\" stroke=\"black\" stroke-width=\"2\"/>\n",
       "</g>\n",
       "<!-- 2&#45;&#45;3 -->\n",
       "<g class=\"edge\" id=\"edge4\"><title>2--3</title>\n",
       "<path d=\"M157.189,-51.6086C172.353,-58.9019 190.364,-67.5645 205.529,-74.8581\" fill=\"none\" stroke=\"black\" stroke-width=\"2\"/>\n",
       "</g>\n",
       "<!-- 4 -->\n",
       "<g class=\"node\" id=\"node5\"><title>4</title>\n",
       "<ellipse cx=\"395.773\" cy=\"-90.4149\" fill=\"#0051ae\" rx=\"36\" ry=\"36\" stroke=\"black\" stroke-width=\"2\"/>\n",
       "</g>\n",
       "<!-- 3&#45;&#45;4 -->\n",
       "<g class=\"edge\" id=\"edge5\"><title>3--4</title>\n",
       "<path d=\"M274.186,-90.4566C299.844,-90.4478 334.123,-90.4361 359.742,-90.4273\" fill=\"none\" stroke=\"black\" stroke-width=\"2\"/>\n",
       "</g>\n",
       "<!-- 5 -->\n",
       "<g class=\"node\" id=\"node6\"><title>5</title>\n",
       "<ellipse cx=\"504.043\" cy=\"-50.4843\" fill=\"#0000ff\" rx=\"36\" ry=\"36\" stroke=\"black\" stroke-width=\"2\"/>\n",
       "</g>\n",
       "<!-- 4&#45;&#45;5 -->\n",
       "<g class=\"edge\" id=\"edge6\"><title>4--5</title>\n",
       "<path d=\"M429.734,-77.8902C442.633,-73.1329 457.315,-67.7178 470.204,-62.9646\" fill=\"none\" stroke=\"black\" stroke-width=\"2\"/>\n",
       "</g>\n",
       "<!-- 6 -->\n",
       "<g class=\"node\" id=\"node7\"><title>6</title>\n",
       "<ellipse cx=\"503.962\" cy=\"-130.492\" fill=\"#0000ff\" rx=\"36\" ry=\"36\" stroke=\"black\" stroke-width=\"2\"/>\n",
       "</g>\n",
       "<!-- 4&#45;&#45;6 -->\n",
       "<g class=\"edge\" id=\"edge7\"><title>4--6</title>\n",
       "<path d=\"M429.708,-102.986C442.598,-107.761 457.269,-113.195 470.148,-117.966\" fill=\"none\" stroke=\"black\" stroke-width=\"2\"/>\n",
       "</g>\n",
       "<!-- 5&#45;&#45;6 -->\n",
       "<g class=\"edge\" id=\"edge8\"><title>5--6</title>\n",
       "<path d=\"M504.006,-86.7428C504.004,-89.2236 504.001,-91.7237 503.999,-94.2046\" fill=\"none\" stroke=\"black\" stroke-width=\"2\"/>\n",
       "</g>\n",
       "</g>\n",
       "</svg>"
      ],
      "text/plain": [
       "<IPython.core.display.SVG object>"
      ]
     },
     "execution_count": 3,
     "metadata": {},
     "output_type": "execute_result"
    }
   ],
   "source": [
    "set_f(G, F)\n",
    "draw_graph_with_values(G, \"running.dot\")\n",
    "\n",
    "!sfdp -Goverlap=prism -Tsvg running.dot > running.svg\n",
    "\n",
    "from IPython.display import SVG\n",
    "\n",
    "SVG(filename='running.svg')"
   ]
  },
  {
   "cell_type": "code",
   "execution_count": 3,
   "metadata": {
    "collapsed": false
   },
   "outputs": [],
   "source": [
    "#alg = OptWavelets(2)\n",
    "alg = GNCWavelets()\n",
    "alg.set_graph(G)\n",
    "tr = alg.transform(F)\n",
    "#appx_tr = alg.drop_frequency(tr, 2)\n"
   ]
  },
  {
   "cell_type": "code",
   "execution_count": 4,
   "metadata": {
    "collapsed": false
   },
   "outputs": [
    {
     "data": {
      "image/svg+xml": [
       "<svg height=\"144pt\" viewBox=\"0.00 0.00 417.61 144.00\" width=\"418pt\" xmlns=\"http://www.w3.org/2000/svg\" xmlns:xlink=\"http://www.w3.org/1999/xlink\">\n",
       "<g class=\"graph\" id=\"graph0\" transform=\"scale(0.761993 0.761993) rotate(0) translate(4 184.978)\">\n",
       "<title>G</title>\n",
       "<polygon fill=\"white\" points=\"-4,4 -4,-184.978 544.043,-184.978 544.043,4 -4,4\" stroke=\"none\"/>\n",
       "<!-- 0 -->\n",
       "<g class=\"node\" id=\"node1\"><title>0</title>\n",
       "<ellipse cx=\"36\" cy=\"-90.4104\" fill=\"#ff0000\" rx=\"36\" ry=\"36\" stroke=\"black\" stroke-width=\"2\"/>\n",
       "</g>\n",
       "<!-- 1 -->\n",
       "<g class=\"node\" id=\"node2\"><title>1</title>\n",
       "<ellipse cx=\"124.606\" cy=\"-144.978\" fill=\"#ff0000\" rx=\"36\" ry=\"36\" stroke=\"black\" stroke-width=\"2\"/>\n",
       "</g>\n",
       "<!-- 0&#45;&#45;1 -->\n",
       "<g class=\"edge\" id=\"edge1\"><title>0--1</title>\n",
       "<path d=\"M66.9902,-109.496C75.6737,-114.843 85.1095,-120.654 93.7833,-125.996\" fill=\"none\" stroke=\"black\" stroke-width=\"2\"/>\n",
       "</g>\n",
       "<!-- 2 -->\n",
       "<g class=\"node\" id=\"node3\"><title>2</title>\n",
       "<ellipse cx=\"124.736\" cy=\"-36\" fill=\"#ff0000\" rx=\"36\" ry=\"36\" stroke=\"black\" stroke-width=\"2\"/>\n",
       "</g>\n",
       "<!-- 0&#45;&#45;2 -->\n",
       "<g class=\"edge\" id=\"edge2\"><title>0--2</title>\n",
       "<path d=\"M67.0354,-71.3803C75.7316,-66.048 85.1811,-60.2538 93.8676,-54.9275\" fill=\"none\" stroke=\"black\" stroke-width=\"2\"/>\n",
       "</g>\n",
       "<!-- 3 -->\n",
       "<g class=\"node\" id=\"node4\"><title>3</title>\n",
       "<ellipse cx=\"237.987\" cy=\"-90.469\" fill=\"#ff0000\" rx=\"36\" ry=\"36\" stroke=\"black\" stroke-width=\"2\"/>\n",
       "</g>\n",
       "<!-- 1&#45;&#45;3 -->\n",
       "<g class=\"edge\" id=\"edge3\"><title>1--3</title>\n",
       "<path d=\"M157.097,-129.358C172.278,-122.059 190.31,-113.39 205.492,-106.091\" fill=\"none\" stroke=\"black\" stroke-width=\"2\"/>\n",
       "</g>\n",
       "<!-- 2&#45;&#45;3 -->\n",
       "<g class=\"edge\" id=\"edge4\"><title>2--3</title>\n",
       "<path d=\"M157.189,-51.6086C172.353,-58.9019 190.364,-67.5645 205.529,-74.8581\" fill=\"none\" stroke=\"black\" stroke-width=\"2\"/>\n",
       "</g>\n",
       "<!-- 4 -->\n",
       "<g class=\"node\" id=\"node5\"><title>4</title>\n",
       "<ellipse cx=\"395.773\" cy=\"-90.4149\" fill=\"#0000ff\" rx=\"36\" ry=\"36\" stroke=\"black\" stroke-width=\"2\"/>\n",
       "</g>\n",
       "<!-- 3&#45;&#45;4 -->\n",
       "<g class=\"edge\" id=\"edge5\"><title>3--4</title>\n",
       "<path d=\"M274.186,-90.4566C299.844,-90.4478 334.123,-90.4361 359.742,-90.4273\" fill=\"none\" stroke=\"black\" stroke-width=\"2\"/>\n",
       "</g>\n",
       "<!-- 5 -->\n",
       "<g class=\"node\" id=\"node6\"><title>5</title>\n",
       "<ellipse cx=\"504.043\" cy=\"-50.4843\" fill=\"#0000ff\" rx=\"36\" ry=\"36\" stroke=\"black\" stroke-width=\"2\"/>\n",
       "</g>\n",
       "<!-- 4&#45;&#45;5 -->\n",
       "<g class=\"edge\" id=\"edge6\"><title>4--5</title>\n",
       "<path d=\"M429.734,-77.8902C442.633,-73.1329 457.315,-67.7178 470.204,-62.9646\" fill=\"none\" stroke=\"black\" stroke-width=\"2\"/>\n",
       "</g>\n",
       "<!-- 6 -->\n",
       "<g class=\"node\" id=\"node7\"><title>6</title>\n",
       "<ellipse cx=\"503.962\" cy=\"-130.492\" fill=\"#0000ff\" rx=\"36\" ry=\"36\" stroke=\"black\" stroke-width=\"2\"/>\n",
       "</g>\n",
       "<!-- 4&#45;&#45;6 -->\n",
       "<g class=\"edge\" id=\"edge7\"><title>4--6</title>\n",
       "<path d=\"M429.708,-102.986C442.598,-107.761 457.269,-113.195 470.148,-117.966\" fill=\"none\" stroke=\"black\" stroke-width=\"2\"/>\n",
       "</g>\n",
       "<!-- 5&#45;&#45;6 -->\n",
       "<g class=\"edge\" id=\"edge8\"><title>5--6</title>\n",
       "<path d=\"M504.006,-86.7428C504.004,-89.2236 504.001,-91.7237 503.999,-94.2046\" fill=\"none\" stroke=\"black\" stroke-width=\"2\"/>\n",
       "</g>\n",
       "</g>\n",
       "</svg>"
      ],
      "text/plain": [
       "<IPython.core.display.SVG object>"
      ]
     },
     "execution_count": 4,
     "metadata": {},
     "output_type": "execute_result"
    }
   ],
   "source": [
    "def partitions_avg(parts, G, F):\n",
    "    i = 0\n",
    "    avg_F = []\n",
    "    ind = {}\n",
    "    for v in G.nodes():\n",
    "        ind[v] = i\n",
    "        i = i + 1\n",
    "        avg_F.append(0)\n",
    "    \n",
    "    \n",
    "    for p in range(len(parts)):\n",
    "        avg = 0\n",
    "        for i in range(len(parts[p])):\n",
    "            avg = avg + F[ind[parts[p][i]]]\n",
    "        avg = float(avg) / len(parts[p])\n",
    "        \n",
    "        for i in range(len(parts[p])):\n",
    "             avg_F[ind[parts[p][i]]] = avg\n",
    "            \n",
    "    return avg_F\n",
    "\n",
    "parts = partitions_level(alg.tree, 1, G)\n",
    "avgs = partitions_avg(parts, G, F)\n",
    "set_f(G, avgs)\n",
    "draw_graph_with_values(G, \"running.dot\")\n",
    "\n",
    "!sfdp -Goverlap=prism -Tsvg running.dot > running.svg\n",
    "\n",
    "from IPython.display import SVG\n",
    "\n",
    "SVG(filename='running.svg')"
   ]
  },
  {
   "cell_type": "code",
   "execution_count": null,
   "metadata": {
    "collapsed": true
   },
   "outputs": [],
   "source": []
  }
 ],
 "metadata": {
  "kernelspec": {
   "display_name": "Python 3",
   "language": "python",
   "name": "python3"
  },
  "language_info": {
   "codemirror_mode": {
    "name": "ipython",
    "version": 3
   },
   "file_extension": ".py",
   "mimetype": "text/x-python",
   "name": "python",
   "nbconvert_exporter": "python",
   "pygments_lexer": "ipython3",
   "version": "3.4.3"
  }
 },
 "nbformat": 4,
 "nbformat_minor": 0
}
