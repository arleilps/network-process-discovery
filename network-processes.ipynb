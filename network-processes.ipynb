{
 "cells": [
  {
   "cell_type": "markdown",
   "metadata": {},
   "source": [
    "# Imports"
   ]
  },
  {
   "cell_type": "code",
   "execution_count": 1,
   "metadata": {
    "collapsed": false
   },
   "outputs": [],
   "source": [
    "import networkx\n",
    "import math\n",
    "import scipy.optimize\n",
    "import numpy\n",
    "import sys\n",
    "from scipy import linalg\n",
    "import matplotlib.pyplot as plt\n",
    "from IPython.display import Image\n",
    "import pywt\n",
    "import scipy.fftpack\n",
    "import random\n",
    "import operator\n",
    "import copy\n",
    "from collections import deque\n",
    "from sklearn.preprocessing import normalize\n",
    "from sklearn.cluster import SpectralClustering\n",
    "from matplotlib.lines import Line2D\n",
    "\n",
    "from lib.io import *\n",
    "from lib.vis import *\n",
    "from lib.graph_signal_proc import *\n",
    "from lib.netpros import *\n",
    "from lib.syn import *"
   ]
  },
  {
   "cell_type": "markdown",
   "metadata": {},
   "source": [
    "# Datasets"
   ]
  },
  {
   "cell_type": "markdown",
   "metadata": {},
   "source": [
    "## Small traffic"
   ]
  },
  {
   "cell_type": "raw",
   "metadata": {},
   "source": [
    "Speeds from traffic sensors\n",
    "#vertices: 100\n",
    "#snapshots: 8641\n",
    "sampling rate: 5 min."
   ]
  },
  {
   "cell_type": "code",
   "execution_count": 2,
   "metadata": {
    "collapsed": false
   },
   "outputs": [],
   "source": [
    "small_traffic = {}\n",
    "small_traffic[\"path\"] = \"/home/arlei/Phd/research/network_process/data/small_traffic/\"\n",
    "small_traffic[\"num_snaps\"]=8640"
   ]
  },
  {
   "cell_type": "markdown",
   "metadata": {},
   "source": [
    "## Large traffic"
   ]
  },
  {
   "cell_type": "raw",
   "metadata": {},
   "source": [
    "Speeds from traffic sensors\n",
    "#vertices: 1923\n",
    "#snapshots: 8641\n",
    "sampling rate: 5 min."
   ]
  },
  {
   "cell_type": "code",
   "execution_count": null,
   "metadata": {
    "collapsed": false
   },
   "outputs": [],
   "source": [
    "traffic = {}\n",
    "traffic[\"path\"] = \"/home/arlei/Phd/research/network-process/data/traffic/\"\n",
    "traffic[\"num_snaps\"]=8640"
   ]
  },
  {
   "cell_type": "markdown",
   "metadata": {},
   "source": [
    "## Facebook"
   ]
  },
  {
   "cell_type": "markdown",
   "metadata": {
    "collapsed": false
   },
   "source": [
    "User activity (send/receive message) on facebook\n",
    "#vertices: 63392\n",
    "#snapshots: \n",
    "sampling rate: 1 week"
   ]
  },
  {
   "cell_type": "markdown",
   "metadata": {},
   "source": [
    "## Brain"
   ]
  },
  {
   "cell_type": "code",
   "execution_count": null,
   "metadata": {
    "collapsed": false
   },
   "outputs": [],
   "source": [
    "#TODO"
   ]
  },
  {
   "cell_type": "markdown",
   "metadata": {},
   "source": [
    "# Cascade on Karate Club Dataset"
   ]
  },
  {
   "cell_type": "code",
   "execution_count": null,
   "metadata": {
    "collapsed": false
   },
   "outputs": [],
   "source": [
    "G=networkx.karate_club_graph()\n",
    "syn_F = generate_dyn_cascade(G, 4, 4, 4)"
   ]
  },
  {
   "cell_type": "code",
   "execution_count": null,
   "metadata": {
    "collapsed": false
   },
   "outputs": [],
   "source": [
    "set_f(G, syn_F[0])\n",
    "\n",
    "draw_graph_with_values(G, \"karate.dot\")\n",
    "\n",
    "!sfdp -Goverlap=prism -Tsvg karate.dot > karate_1.svg\n",
    "\n",
    "from IPython.display import SVG\n",
    "\n",
    "SVG(filename='karate_1.svg')"
   ]
  },
  {
   "cell_type": "markdown",
   "metadata": {},
   "source": [
    "# Heat on Karate Club Dataset"
   ]
  },
  {
   "cell_type": "code",
   "execution_count": null,
   "metadata": {
    "collapsed": false
   },
   "outputs": [],
   "source": []
  },
  {
   "cell_type": "code",
   "execution_count": null,
   "metadata": {
    "collapsed": false
   },
   "outputs": [],
   "source": [
    "set_f(G, syn_F[0])\n",
    "\n",
    "draw_graph_with_values(G, \"karate.dot\")\n",
    "\n",
    "!sfdp -Goverlap=prism -Tsvg karate.dot > karate_1.svg\n",
    "\n",
    "from IPython.display import SVG\n",
    "\n",
    "SVG(filename='karate_1.svg')"
   ]
  },
  {
   "cell_type": "code",
   "execution_count": null,
   "metadata": {
    "collapsed": false
   },
   "outputs": [],
   "source": [
    "set_f(G, syn_F[1])\n",
    "\n",
    "draw_graph_with_values(G, \"karate.dot\")\n",
    "\n",
    "!sfdp -Goverlap=prism -Tsvg karate.dot > karate_1.svg\n",
    "\n",
    "from IPython.display import SVG\n",
    "\n",
    "SVG(filename='karate_1.svg')"
   ]
  },
  {
   "cell_type": "code",
   "execution_count": null,
   "metadata": {
    "collapsed": false
   },
   "outputs": [],
   "source": [
    "set_f(G, syn_F[2])\n",
    "\n",
    "draw_graph_with_values(G, \"karate.dot\")\n",
    "\n",
    "!sfdp -Goverlap=prism -Tsvg karate.dot > karate_1.svg\n",
    "\n",
    "from IPython.display import SVG\n",
    "\n",
    "SVG(filename='karate_1.svg')"
   ]
  },
  {
   "cell_type": "code",
   "execution_count": null,
   "metadata": {
    "collapsed": false
   },
   "outputs": [],
   "source": [
    "set_f(G, syn_F[3])\n",
    "\n",
    "draw_graph_with_values(G, \"karate.dot\")\n",
    "\n",
    "!sfdp -Goverlap=prism -Tsvg karate.dot > karate_1.svg\n",
    "\n",
    "from IPython.display import SVG\n",
    "\n",
    "SVG(filename='karate_1.svg')"
   ]
  },
  {
   "cell_type": "code",
   "execution_count": null,
   "metadata": {
    "collapsed": false
   },
   "outputs": [],
   "source": [
    "set_f(G, syn_F[4])\n",
    "\n",
    "draw_graph_with_values(G, \"karate.dot\")\n",
    "\n",
    "!sfdp -Goverlap=prism -Tsvg karate.dot > karate_1.svg\n",
    "\n",
    "from IPython.display import SVG\n",
    "\n",
    "SVG(filename='karate_1.svg')"
   ]
  },
  {
   "cell_type": "markdown",
   "metadata": {},
   "source": [
    "# Small traffic"
   ]
  },
  {
   "cell_type": "code",
   "execution_count": null,
   "metadata": {
    "collapsed": false
   },
   "outputs": [],
   "source": [
    "#G = read_graph(small_traffic[\"path\"] + \"traffic.graph\", small_traffic[\"path\"] + \"traffic_100.data\")\n",
    "\n",
    "#FT = read_dyn_graph(small_traffic[\"path\"] + \"traffic\", 2000, G)   "
   ]
  },
  {
   "cell_type": "code",
   "execution_count": null,
   "metadata": {
    "collapsed": false
   },
   "outputs": [],
   "source": [
    "#plt.clf()\n",
    "#heatmap = plt.pcolor(numpy.real(FT))\n",
    "#plt.ylim(0,2000)\n",
    "#plt.colorbar(heatmap)\n",
    "#plt.savefig(\"fourier_time_graph.png\")\n",
    "#Image(filename='fourier_time_graph.png')"
   ]
  },
  {
   "cell_type": "markdown",
   "metadata": {},
   "source": [
    "# Compression experiments"
   ]
  },
  {
   "cell_type": "code",
   "execution_count": null,
   "metadata": {
    "collapsed": false
   },
   "outputs": [],
   "source": [
    "def compression_experiment(G, FT, algs):\n",
    "    comp_ratios = (.05, .10, .15, .20, .25, 0.30)\n",
    "\n",
    "    results = {}\n",
    "    for alg in algs:\n",
    "        results[alg.name()] = []\n",
    "        \n",
    "        for i in range(len(FT)):\n",
    "            results[alg.name()].append([])\n",
    "            alg.set_graph(G)\n",
    "            tr = alg.transform(FT[i])\n",
    "            \n",
    "            for r in comp_ratios:\n",
    "                size = int(FT[i].size * r)\n",
    "                appx_tr = alg.drop_frequency(tr, size)\n",
    "                appx_FT = alg.inverse(appx_tr)\n",
    "                \n",
    "                results[alg.name()][i].append([L2(FT[i], appx_FT), L1(FT[i], appx_FT)])\n",
    "            \n",
    "        results[alg.name()] = numpy.array(results[alg.name()]) \n",
    "        \n",
    "        results[alg.name()] = numpy.mean(results[alg.name()], axis=0)\n",
    "                               \n",
    "    return results"
   ]
  },
  {
   "cell_type": "code",
   "execution_count": null,
   "metadata": {
    "collapsed": false
   },
   "outputs": [],
   "source": [
    "def plot_compression_experiments(results, output_file_name):\n",
    "    comp_ratios = (.05, .10, .15, .20, .25, .30)\n",
    "    plt.clf()\n",
    "    ax = plt.subplot(111)\n",
    "    i = 5\n",
    "    for alg in results.keys():\n",
    "        ax.semilogy(comp_ratios, results[alg][:,0], label=alg, marker=list(Line2D.markers.keys())[i], markersize=10, basey=2)\n",
    "        i = i + 1\n",
    "\n",
    "        #plt.loglog(comp_ratios, results[alg][:,0], basex=2, basey=2, label=alg)\n",
    "        \n",
    "    ax.legend(loc='upper left', bbox_to_anchor=(1, 1))\n",
    "    ax.set_ylabel('L2 error', fontsize=20)\n",
    "    ax.set_xlabel('size', fontsize=20)\n",
    "    ax.set_ylim([math.pow(2,-6), 2])\n",
    "    ax.set_xlim([0,.35])\n",
    "    box = ax.get_position()\n",
    "    plt.rcParams['xtick.labelsize'] = 10 \n",
    "    plt.rcParams['ytick.labelsize'] = 10\n",
    "    ax.set_position([box.x0, box.y0, box.width * 0.65, box.height])\n",
    "            \n",
    "    plt.savefig(output_file_name)"
   ]
  },
  {
   "cell_type": "markdown",
   "metadata": {},
   "source": [
    "## Gaussian noise"
   ]
  },
  {
   "cell_type": "code",
   "execution_count": null,
   "metadata": {
    "collapsed": false
   },
   "outputs": [],
   "source": [
    "G=networkx.karate_club_graph()\n",
    "syn_Fs = []\n",
    "\n",
    "for i in range(10):\n",
    "    syn_F = generate_dyn_gaussian_noise(G, 30)\n",
    "    syn_Fs.append(syn_F)\n",
    "    \n",
    "algs = [SVD(), TwoDHWavelets(), TwoDFourier(), TwoDGWavelets(), TwoDGNCWavelets()]\n",
    "reskn = compression_experiment(G, syn_Fs, algs)"
   ]
  },
  {
   "cell_type": "code",
   "execution_count": null,
   "metadata": {
    "collapsed": false
   },
   "outputs": [],
   "source": [
    "plot_compression_experiments(reskn, \"karate_compression_gaussian_noise_l2.png\")\n",
    "Image(filename=\"karate_compression_gaussian_noise_l2.png\")"
   ]
  },
  {
   "cell_type": "code",
   "execution_count": null,
   "metadata": {
    "collapsed": false
   },
   "outputs": [],
   "source": [
    "plt.clf()\n",
    "heatmap = plt.pcolor(syn_F)\n",
    "plt.colorbar(heatmap)\n",
    "plt.savefig(\"karate_gaussian.png\")\n",
    "Image(filename='karate_gaussian.png')"
   ]
  },
  {
   "cell_type": "markdown",
   "metadata": {},
   "source": [
    "## Independent Cascade"
   ]
  },
  {
   "cell_type": "code",
   "execution_count": null,
   "metadata": {
    "collapsed": false
   },
   "outputs": [],
   "source": [
    "G=networkx.karate_club_graph()\n",
    "\n",
    "syn_Fs = []\n",
    "\n",
    "for i in range(1):\n",
    "    syn_F = generate_dyn_indep_cascade(G, 5, 0.5)\n",
    "    syn_Fs.append(syn_F)\n",
    "    \n",
    "algs = [SVD(), TwoDHWavelets(), TwoDFourier(), TwoDGNCWavelets()]\n",
    "resks = compression_experiment(G, syn_Fs, algs)"
   ]
  },
  {
   "cell_type": "code",
   "execution_count": null,
   "metadata": {
    "collapsed": false
   },
   "outputs": [],
   "source": [
    "plot_compression_experiments(resks, \"karate_compression_gaussian_sync_smooth_noise_l2.png\")\n",
    "Image(filename=\"karate_compression_gaussian_sync_smooth_noise_l2.png\")"
   ]
  },
  {
   "cell_type": "code",
   "execution_count": null,
   "metadata": {
    "collapsed": false
   },
   "outputs": [],
   "source": [
    "plt.clf()\n",
    "heatmap = plt.pcolor(syn_Fs[0])\n",
    "plt.colorbar(heatmap)\n",
    "plt.savefig(\"karate_sync_smooth_gaussian.png\")\n",
    "Image(filename='karate_sync_smooth_gaussian.png')"
   ]
  },
  {
   "cell_type": "markdown",
   "metadata": {},
   "source": [
    "## Synchronized Bursts"
   ]
  },
  {
   "cell_type": "code",
   "execution_count": null,
   "metadata": {
    "collapsed": false
   },
   "outputs": [],
   "source": [
    "G=networkx.karate_club_graph()\n",
    "syn_Fs = []\n",
    "\n",
    "for i in range(10):\n",
    "    syn_F = generate_dyn_bursty_noise(G, 60)\n",
    "    syn_Fs.append(syn_F)\n",
    "    \n",
    "algs = [SVD(), TwoDHWavelets(), TwoDFourier(), TwoDGWavelets(), TwoDGNCWavelets()]\n",
    "reskb = compression_experiment(G, syn_Fs, algs)"
   ]
  },
  {
   "cell_type": "code",
   "execution_count": null,
   "metadata": {
    "collapsed": false
   },
   "outputs": [],
   "source": [
    "plot_compression_experiments(reskb, \"karate_compression_bursty_noise_l2.png\")\n",
    "Image(filename=\"karate_compression_bursty_noise_l2.png\")"
   ]
  },
  {
   "cell_type": "code",
   "execution_count": null,
   "metadata": {
    "collapsed": false
   },
   "outputs": [],
   "source": [
    "plt.clf()\n",
    "heatmap = plt.pcolor(syn_F)\n",
    "plt.colorbar(heatmap)\n",
    "plt.savefig(\"karate_sync_bursty.png\")\n",
    "Image(filename='karate_sync_bursty.png')"
   ]
  },
  {
   "cell_type": "markdown",
   "metadata": {},
   "source": [
    "## Karate club - Heat"
   ]
  },
  {
   "cell_type": "code",
   "execution_count": null,
   "metadata": {
    "collapsed": false
   },
   "outputs": [],
   "source": [
    "G=networkx.karate_club_graph()\n",
    "syn_Fs = []\n",
    "\n",
    "for i in range(50):\n",
    "    syn_F = generate_dyn_heat(G, 8, 1, 2)\n",
    "    syn_Fs.append(syn_F)\n",
    "    \n",
    "algs = [SVD(), TwoDHWavelets(), TwoDFourier(), TwoDGWavelets(), TwoDGNCWavelets()]\n",
    "reskh = compression_experiment(G, syn_Fs, algs)"
   ]
  },
  {
   "cell_type": "code",
   "execution_count": null,
   "metadata": {
    "collapsed": false
   },
   "outputs": [],
   "source": [
    "plot_compression_experiments(reskh, \"karate_compression_heat_l2.png\")\n",
    "Image(filename=\"karate_compression_heat_l2.png\")"
   ]
  },
  {
   "cell_type": "markdown",
   "metadata": {},
   "source": [
    "## Karate club - Cascade"
   ]
  },
  {
   "cell_type": "code",
   "execution_count": null,
   "metadata": {
    "collapsed": false
   },
   "outputs": [],
   "source": [
    "G=networkx.karate_club_graph()\n",
    "syn_Fs = []\n",
    "\n",
    "for i in range(50):\n",
    "    syn_F = generate_dyn_cascade(G, 10, 8, 2)\n",
    "    syn_Fs.append(syn_F)\n",
    "    \n",
    "algs = [SVD(), TwoDHWavelets(), TwoDFourier(), TwoDGWavelets(), TwoDGNCWavelets()]  \n",
    "reskc = compression_experiment(G, syn_Fs, algs)"
   ]
  },
  {
   "cell_type": "code",
   "execution_count": null,
   "metadata": {
    "collapsed": false
   },
   "outputs": [],
   "source": [
    "plot_compression_experiments(reskc, \"karate_compression_cascade_l2.png\")\n",
    "Image(filename=\"karate_compression_cascade_l2.png\")"
   ]
  },
  {
   "cell_type": "markdown",
   "metadata": {},
   "source": [
    "## Small Traffic"
   ]
  },
  {
   "cell_type": "code",
   "execution_count": null,
   "metadata": {
    "collapsed": false
   },
   "outputs": [],
   "source": [
    "G = read_graph(small_traffic[\"path\"] + \"traffic.graph\", small_traffic[\"path\"] + \"traffic_100.data\")\n",
    "\n",
    "FT = read_dyn_graph(small_traffic[\"path\"] + \"traffic\", 2000, G)  "
   ]
  },
  {
   "cell_type": "code",
   "execution_count": null,
   "metadata": {
    "collapsed": false
   },
   "outputs": [],
   "source": [
    "algs = [SVD(), TwoDHWavelets(), TwoDFourier(), TwoDGNCWavelets()]\n",
    "\n",
    "restf = compression_experiment(G, [cFT], algs)"
   ]
  },
  {
   "cell_type": "code",
   "execution_count": null,
   "metadata": {
    "collapsed": false
   },
   "outputs": [],
   "source": [
    "plot_compression_experiments(restf, \"traffic_compression_l2.png\")"
   ]
  },
  {
   "cell_type": "code",
   "execution_count": null,
   "metadata": {
    "collapsed": false
   },
   "outputs": [],
   "source": [
    "Image(filename=\"traffic_compression_l2.png\")"
   ]
  },
  {
   "cell_type": "markdown",
   "metadata": {
    "collapsed": false
   },
   "source": [
    "# Visualizing Coefficients"
   ]
  },
  {
   "cell_type": "markdown",
   "metadata": {
    "collapsed": false
   },
   "source": [
    "## Karate club"
   ]
  },
  {
   "cell_type": "code",
   "execution_count": null,
   "metadata": {
    "collapsed": false
   },
   "outputs": [],
   "source": [
    "G=networkx.karate_club_graph()\n",
    "syn_F = generate_dyn_syn(G, 4, 8, 2)"
   ]
  },
  {
   "cell_type": "code",
   "execution_count": null,
   "metadata": {
    "collapsed": false
   },
   "outputs": [],
   "source": [
    "plt.clf()\n",
    "heatmap = plt.pcolor(numpy.real(syn_F))\n",
    "plt.colorbar(heatmap)\n",
    "plt.savefig(\"karate_heat.png\")\n",
    "Image(filename='karate_heat.png')"
   ]
  },
  {
   "cell_type": "code",
   "execution_count": null,
   "metadata": {
    "collapsed": false
   },
   "outputs": [],
   "source": [
    "ft = TwoDFourier()\n",
    "ft.set_graph(G)\n",
    "fft = ft.transform(syn_F)"
   ]
  },
  {
   "cell_type": "code",
   "execution_count": null,
   "metadata": {
    "collapsed": false
   },
   "outputs": [],
   "source": [
    "plt.clf()\n",
    "heatmap = plt.pcolor(ft.scale_energy_info(fft))\n",
    "plt.colorbar(heatmap)\n",
    "plt.savefig(\"karate_heat.png\")\n",
    "Image(filename='karate_heat.png')"
   ]
  },
  {
   "cell_type": "code",
   "execution_count": null,
   "metadata": {
    "collapsed": true
   },
   "outputs": [],
   "source": [
    "wt = TwoDGWavelets()\n",
    "wt.set_graph(G)\n",
    "wtt = wt.transform(syn_F)"
   ]
  },
  {
   "cell_type": "code",
   "execution_count": null,
   "metadata": {
    "collapsed": false
   },
   "outputs": [],
   "source": [
    "plt.clf()\n",
    "heatmap = plt.pcolor(wt.scale_energy_info(wtt))\n",
    "plt.colorbar(heatmap)\n",
    "plt.savefig(\"karate_heat.png\")\n",
    "Image(filename='karate_heat.png')"
   ]
  },
  {
   "cell_type": "code",
   "execution_count": null,
   "metadata": {
    "collapsed": false
   },
   "outputs": [],
   "source": [
    "wt = TwoDHWavelets()\n",
    "wt.set_graph(G)\n",
    "wtt = wt.transform(syn_F)"
   ]
  },
  {
   "cell_type": "code",
   "execution_count": null,
   "metadata": {
    "collapsed": false
   },
   "outputs": [],
   "source": [
    "plt.clf()\n",
    "heatmap = plt.pcolor(wt.scale_energy_info(wtt)[:170])\n",
    "plt.colorbar(heatmap)\n",
    "plt.yticks(list(range(0, 170, 34)))\n",
    "plt.savefig(\"karate_heat.png\")\n",
    "Image(filename='karate_heat.png')"
   ]
  },
  {
   "cell_type": "markdown",
   "metadata": {
    "collapsed": false
   },
   "source": [
    "## Traffic"
   ]
  },
  {
   "cell_type": "code",
   "execution_count": null,
   "metadata": {
    "collapsed": false
   },
   "outputs": [],
   "source": [
    "G = read_graph(small_traffic[\"path\"] + \"traffic.graph\", small_traffic[\"path\"] + \"traffic_100.data\")\n",
    "\n",
    "FT = read_dyn_graph(small_traffic[\"path\"] + \"traffic\", 2000, G)  "
   ]
  },
  {
   "cell_type": "code",
   "execution_count": null,
   "metadata": {
    "collapsed": false
   },
   "outputs": [],
   "source": [
    "plt.clf()\n",
    "heatmap = plt.pcolor(numpy.real(FT))\n",
    "plt.colorbar(heatmap)\n",
    "plt.savefig(\"traffic_heat.png\")\n",
    "Image(filename='traffic_heat.png')"
   ]
  },
  {
   "cell_type": "code",
   "execution_count": null,
   "metadata": {
    "collapsed": false
   },
   "outputs": [],
   "source": [
    "ft = TwoDFourier()\n",
    "ft.set_graph(G)\n",
    "ftt = ft.transform(FT)"
   ]
  },
  {
   "cell_type": "code",
   "execution_count": null,
   "metadata": {
    "collapsed": false
   },
   "outputs": [],
   "source": [
    "plt.clf()\n",
    "heatmap = plt.pcolor(numpy.absolute(ft.scale_energy_info(ftt)[:50].transpose()[:50]))\n",
    "plt.colorbar(heatmap)\n",
    "plt.savefig(\"traffic_heat.png\")\n",
    "Image(filename='traffic_heat.png')"
   ]
  },
  {
   "cell_type": "code",
   "execution_count": null,
   "metadata": {
    "collapsed": false
   },
   "outputs": [],
   "source": [
    "wt = TwoDGWavelets()\n",
    "wt.set_graph(G)\n",
    "wtt = wt.transform(FT)"
   ]
  },
  {
   "cell_type": "code",
   "execution_count": null,
   "metadata": {
    "collapsed": false
   },
   "outputs": [],
   "source": [
    "plt.clf()\n",
    "heatmap = plt.pcolor(numpy.absolute(wt.scale_energy_info(wtt)[:50].transpose()[:50]))\n",
    "plt.colorbar(heatmap)\n",
    "plt.savefig(\"traffic_heat.png\")\n",
    "Image(filename='traffic_heat.png')"
   ]
  },
  {
   "cell_type": "code",
   "execution_count": null,
   "metadata": {
    "collapsed": false
   },
   "outputs": [],
   "source": [
    "list(range(0,100,10))"
   ]
  },
  {
   "cell_type": "code",
   "execution_count": null,
   "metadata": {
    "collapsed": false
   },
   "outputs": [],
   "source": [
    "%aimport"
   ]
  },
  {
   "cell_type": "code",
   "execution_count": null,
   "metadata": {
    "collapsed": false
   },
   "outputs": [],
   "source": [
    "print (reskh)"
   ]
  },
  {
   "cell_type": "code",
   "execution_count": null,
   "metadata": {
    "collapsed": false
   },
   "outputs": [],
   "source": [
    "print(list(Line2D.markers.keys()))"
   ]
  },
  {
   "cell_type": "code",
   "execution_count": null,
   "metadata": {
    "collapsed": false
   },
   "outputs": [],
   "source": [
    "tree, ind = normalized_cut_hierarchy(G)"
   ]
  },
  {
   "cell_type": "code",
   "execution_count": null,
   "metadata": {
    "collapsed": false
   },
   "outputs": [],
   "source": [
    "G = read_graph(small_traffic[\"path\"] + \"traffic.graph\", small_traffic[\"path\"] + \"traffic_100.data\")\n",
    "\n",
    "A = networkx.adjacency_matrix(G)\n",
    "spectral = SpectralClustering(n_clusters=5, affinity='precomputed')\n",
    "f = spectral.fit(A)\n",
    "C = spectral.fit_predict(A)"
   ]
  },
  {
   "cell_type": "code",
   "execution_count": null,
   "metadata": {
    "collapsed": false
   },
   "outputs": [],
   "source": [
    "Gc = max(networkx.connected_component_subgraphs(G), key=len)\n",
    "print (Gc.edges())"
   ]
  },
  {
   "cell_type": "code",
   "execution_count": null,
   "metadata": {
    "collapsed": true
   },
   "outputs": [],
   "source": [
    "A = networkx.adjacency_matrix(G)\n",
    "spectral = SpectralClustering(n_clusters=2, affinity='precomputed')\n",
    "f = spectral.fit(A)\n",
    "C = spectral.fit_predict(A)"
   ]
  },
  {
   "cell_type": "code",
   "execution_count": null,
   "metadata": {
    "collapsed": false
   },
   "outputs": [],
   "source": [
    "set_f(G, C)\n",
    "draw_graph_with_values(G, \"karate.dot\")\n",
    "\n",
    "!sfdp -Goverlap=prism -Tsvg karate.dot > karate_1.svg\n",
    "\n",
    "from IPython.display import SVG\n",
    "\n",
    "SVG(filename='karate_1.svg')"
   ]
  },
  {
   "cell_type": "code",
   "execution_count": null,
   "metadata": {
    "collapsed": true
   },
   "outputs": [],
   "source": [
    "import statsmodels.api as sm\n",
    "dta.co2.interpolate(inplace=True)\n",
    "\n",
    "res = sm.tsa.seasonal_decompose(dta.co2)"
   ]
  },
  {
   "cell_type": "code",
   "execution_count": null,
   "metadata": {
    "collapsed": false
   },
   "outputs": [],
   "source": [
    "import pandas as pd\n",
    "from datetime import datetime, date, time, timedelta\n",
    "G = read_graph(small_traffic[\"path\"] + \"traffic.graph\", small_traffic[\"path\"] + \"traffic_100.data\")\n",
    "FT = read_dyn_graph(small_traffic[\"path\"] + \"traffic\", small_traffic[\"num_snaps\"], G)\n",
    "start_time = datetime.strptime(\"1/04/11 00:00\", \"%d/%m/%y %H:%M\")\n",
    "data = pd.DataFrame(FT[:,0], pd.DatetimeIndex(start='1/04/11 00:00',\n",
    "                                                 periods=len(FT[:,0]),\n",
    "                                                 freq='5min'))"
   ]
  },
  {
   "cell_type": "code",
   "execution_count": null,
   "metadata": {
    "collapsed": true
   },
   "outputs": [],
   "source": [
    "data.interpolate(inplace=True)"
   ]
  },
  {
   "cell_type": "code",
   "execution_count": null,
   "metadata": {
    "collapsed": false
   },
   "outputs": [],
   "source": [
    "res = sm.tsa.seasonal_decompose(data.values, freq=2016)"
   ]
  },
  {
   "cell_type": "code",
   "execution_count": null,
   "metadata": {
    "collapsed": false
   },
   "outputs": [],
   "source": [
    "resplot = res.plot()\n",
    "plt.show()"
   ]
  },
  {
   "cell_type": "code",
   "execution_count": null,
   "metadata": {
    "collapsed": false
   },
   "outputs": [],
   "source": [
    "numpy.nan_to_num(res.trend)+numpy.nan_to_num(res.res)"
   ]
  },
  {
   "cell_type": "code",
   "execution_count": null,
   "metadata": {
    "collapsed": false
   },
   "outputs": [],
   "source": [
    "print (sm.datasets.co2.load_pandas().data)"
   ]
  },
  {
   "cell_type": "code",
   "execution_count": 3,
   "metadata": {
    "collapsed": false
   },
   "outputs": [],
   "source": [
    "G = read_graph(small_traffic[\"path\"] + \"traffic.graph\", small_traffic[\"path\"] + \"traffic_100.data\")\n",
    "FT = read_dyn_graph(small_traffic[\"path\"] + \"traffic\", small_traffic[\"num_snaps\"], G)\n",
    "cFT = clean_traffic_data(FT)"
   ]
  },
  {
   "cell_type": "code",
   "execution_count": 4,
   "metadata": {
    "collapsed": false
   },
   "outputs": [
    {
     "data": {
      "image/png": "[encoded data removed]",
      "text/plain": [
       "<IPython.core.display.Image object>"
      ]
     },
     "execution_count": 4,
     "metadata": {},
     "output_type": "execute_result"
    }
   ],
   "source": [
    "plt.clf()\n",
    "heatmap = plt.pcolor(cFT)\n",
    "plt.colorbar(heatmap)\n",
    "plt.savefig(\"traffic_heat.png\")\n",
    "Image(filename='traffic_heat.png')"
   ]
  },
  {
   "cell_type": "code",
   "execution_count": null,
   "metadata": {
    "collapsed": false
   },
   "outputs": [],
   "source": [
    "plt.clf()\n",
    "heatmap = plt.pcolor(numpy.real(FT))\n",
    "plt.colorbar(heatmap)\n",
    "plt.savefig(\"traffic_heat.png\")\n",
    "Image(filename='traffic_heat.png')"
   ]
  },
  {
   "cell_type": "code",
   "execution_count": null,
   "metadata": {
    "collapsed": true
   },
   "outputs": [],
   "source": []
  }
 ],
 "metadata": {
  "kernelspec": {
   "display_name": "Python 3",
   "language": "python",
   "name": "python3"
  },
  "language_info": {
   "codemirror_mode": {
    "name": "ipython",
    "version": 3
   },
   "file_extension": ".py",
   "mimetype": "text/x-python",
   "name": "python",
   "nbconvert_exporter": "python",
   "pygments_lexer": "ipython3",
   "version": "3.4.3"
  }
 },
 "nbformat": 4,
 "nbformat_minor": 0
}
