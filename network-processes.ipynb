{
 "cells": [
  {
   "cell_type": "markdown",
   "metadata": {},
   "source": [
    "# Imports"
   ]
  },
  {
   "cell_type": "code",
   "execution_count": 1,
   "metadata": {
    "collapsed": false
   },
   "outputs": [],
   "source": [
    "import networkx\n",
    "import math\n",
    "import scipy.optimize\n",
    "import numpy\n",
    "import sys\n",
    "from scipy import linalg\n",
    "import matplotlib.pyplot as plt\n",
    "from IPython.display import Image\n",
    "import pywt\n",
    "from scipy.fftpack import fft, ifft\n",
    "import random\n",
    "import operator\n",
    "import copy"
   ]
  },
  {
   "cell_type": "markdown",
   "metadata": {},
   "source": [
    "# Datasets"
   ]
  },
  {
   "cell_type": "markdown",
   "metadata": {},
   "source": [
    "## Small traffic"
   ]
  },
  {
   "cell_type": "raw",
   "metadata": {},
   "source": [
    "Speeds from traffic sensors\n",
    "#vertices: 100\n",
    "#snapshots: 8641\n",
    "sampling rate: 5 min."
   ]
  },
  {
   "cell_type": "code",
   "execution_count": 2,
   "metadata": {
    "collapsed": false
   },
   "outputs": [],
   "source": [
    "small_traffic = {}\n",
    "small_traffic[\"path\"] = \"/home/arlei/Phd/research/network_process/data/small_traffic/\"\n",
    "small_traffic[\"num_snaps\"]=8640"
   ]
  },
  {
   "cell_type": "markdown",
   "metadata": {},
   "source": [
    "## Large traffic"
   ]
  },
  {
   "cell_type": "raw",
   "metadata": {},
   "source": [
    "Speeds from traffic sensors\n",
    "#vertices: 1923\n",
    "#snapshots: 8641\n",
    "sampling rate: 5 min."
   ]
  },
  {
   "cell_type": "code",
   "execution_count": 3,
   "metadata": {
    "collapsed": false
   },
   "outputs": [],
   "source": [
    "traffic = {}\n",
    "traffic[\"path\"] = \"/home/arlei/Phd/research/network-process/data/traffic/\"\n",
    "traffic[\"num_snaps\"]=8640"
   ]
  },
  {
   "cell_type": "markdown",
   "metadata": {},
   "source": [
    "## Wikipedia"
   ]
  },
  {
   "cell_type": "code",
   "execution_count": 4,
   "metadata": {
    "collapsed": false
   },
   "outputs": [],
   "source": [
    "#TODO"
   ]
  },
  {
   "cell_type": "markdown",
   "metadata": {},
   "source": [
    "## Brain"
   ]
  },
  {
   "cell_type": "code",
   "execution_count": 5,
   "metadata": {
    "collapsed": false
   },
   "outputs": [],
   "source": [
    "#TODO"
   ]
  },
  {
   "cell_type": "markdown",
   "metadata": {},
   "source": [
    "# Reading Graph"
   ]
  },
  {
   "cell_type": "code",
   "execution_count": 6,
   "metadata": {
    "collapsed": false
   },
   "outputs": [],
   "source": [
    "def read_graph(input_graph_name, input_data_name):\n",
    "    G = networkx.Graph()\n",
    "    \n",
    "    input_graph = open(input_graph_name, 'r')\n",
    "    \n",
    "    for line in input_graph:\n",
    "        line = line.rstrip()\n",
    "        vec = line.rsplit(',')\n",
    "\n",
    "        v1 = vec[0]\n",
    "        v2 = vec[1]\n",
    "        \n",
    "        G.add_edge(v1,v2)\n",
    "    \n",
    "    input_graph.close()\n",
    "    \n",
    "    input_data = open(input_data_name, 'r')\n",
    "    values = {}\n",
    "    \n",
    "    for line in input_data:\n",
    "        line = line.rstrip()\n",
    "        vec = line.rsplit(',')\n",
    "        \n",
    "        vertex = vec[0]\n",
    "        value = float(vec[1])\n",
    "        values[vertex] = value\n",
    "        \n",
    "    networkx.set_node_attributes(G, \"value\", values)\n",
    "    \n",
    "    input_data.close()\n",
    "    \n",
    "    return G\n",
    "\n",
    "def read_values(input_data_name, G):\n",
    "    D = {}\n",
    "    input_data = open(input_data_name, 'r')\n",
    "\n",
    "    for line in input_data:\n",
    "        line = line.rstrip()\n",
    "        vec = line.rsplit(',')\n",
    "\n",
    "        vertex = vec[0]\n",
    "        value = float(vec[1])\n",
    "        D[vertex] = value\n",
    "\n",
    "    input_data.close()\n",
    "    \n",
    "    F = []\n",
    "    for v in G.nodes():\n",
    "        F.append(float(D[v]))\n",
    "   \n",
    "    F = numpy.array(F)\n",
    "    \n",
    "    return F \n",
    "\n",
    "def read_dyn_graph(path, num_snapshots, G):\n",
    "    FT = []\n",
    "    for t in range(num_snapshots):\n",
    "        in_file = path + \"_\" + str(t) + \".data\"\n",
    "        F = read_values(in_file, G)\n",
    "        FT.append(F)\n",
    "        \n",
    "    return numpy.array(FT)"
   ]
  },
  {
   "cell_type": "markdown",
   "metadata": {},
   "source": [
    "# Visualizing Graph"
   ]
  },
  {
   "cell_type": "code",
   "execution_count": 7,
   "metadata": {
    "collapsed": false
   },
   "outputs": [],
   "source": [
    "def set_f(G,F):\n",
    "    i = 0\n",
    "    for v in G.nodes():\n",
    "        G.node[v][\"value\"] = F[i]\n",
    "        i = i + 1\n",
    "        \n",
    "def rgb_to_hex(r,g,b):\n",
    "    return '#%02x%02x%02x' % (r,g,b)\n",
    "\n",
    "def rgb(minimum, maximum, value):\n",
    "    minimum = -1\n",
    "    maximum=1\n",
    "    minimum, maximum = float(minimum), float(maximum)\n",
    "    ratio = 2 * (value-minimum) / (maximum - minimum)\n",
    "    b = int(max(0, 255*(1 - ratio)))\n",
    "    r = int(max(0, 255*(ratio - 1)))\n",
    "    g = 255 - b - r\n",
    "    return rgb_to_hex(r, g, b)\n",
    "\n",
    "def draw_graph_with_values(G, dot_output_file_name):\n",
    "    output_file = open(dot_output_file_name, 'w')\n",
    "    output_file.write(\"graph G{\\n\")\n",
    "    output_file.write(\"rankdir=\\\"LR\\\";\\n\")\n",
    "    output_file.write(\"size=\\\"10,2\\\";\\n\")\n",
    "    \n",
    "    maximum = -sys.float_info.max\n",
    "    minimum = sys.float_info.max\n",
    "    \n",
    "    for v in G.nodes():\n",
    "        if G.node[v][\"value\"] > maximum:\n",
    "            maximum = G.node[v][\"value\"]\n",
    "            \n",
    "        if G.node[v][\"value\"] < minimum:\n",
    "            minimum = G.node[v][\"value\"]\n",
    "                \n",
    "    \n",
    "    for v in G.nodes():\n",
    "        color = rgb(minimum, maximum, G.node[v][\"value\"])\n",
    "        output_file.write(\"\\\"\"+str(v)+\"\\\" [shape=\\\"circle\\\",label=\\\"\\\",style=filled,fillcolor=\\\"\"+str(color)+\"\\\",penwidth=\\\"1\\\",fixedsize=true,width=\\\"1\\\",height=\\\"1\\\"];\\n\")\n",
    "        #output_file.write(\"\\\"\"+str(v)+\"\\\" [shape=\\\"circle\\\",label=\\\"\"+str(v)+\"\\\",style=filled,fillcolor=\\\"\"+str(color)+\"\\\",penwidth=\\\"1\\\",fixedsize=true,width=\\\"1\\\",height=\\\"1\\\"];\\n\")\n",
    "\n",
    "    \n",
    "    for edge in G.edges():\n",
    "        output_file.write(\"\\\"\"+str(edge[0])+\"\\\" -- \\\"\"+str(edge[1])+\"\\\"[dir=\\\"none\\\",color=\\\"black\\\",penwidth=\\\"1\\\"];\\n\")\n",
    "        \n",
    "\t\n",
    "    output_file.write(\"}\")\n",
    "    \n",
    "    output_file.close()"
   ]
  },
  {
   "cell_type": "markdown",
   "metadata": {},
   "source": [
    "# Computing Eigenvectors and Eigenvalues"
   ]
  },
  {
   "cell_type": "code",
   "execution_count": 8,
   "metadata": {
    "collapsed": false
   },
   "outputs": [],
   "source": [
    "def compute_eigenvectors_and_eigenvalues(L):\n",
    "    lamb, U = linalg.eig(L)\n",
    "    \n",
    "    idx = lamb.argsort()   \n",
    "    lamb = lamb[idx]\n",
    "    U = U[:,idx]\n",
    "    \n",
    "    return U, lamb"
   ]
  },
  {
   "cell_type": "markdown",
   "metadata": {},
   "source": [
    "# Setting center-radius uniform values"
   ]
  },
  {
   "cell_type": "code",
   "execution_count": 9,
   "metadata": {
    "collapsed": false
   },
   "outputs": [],
   "source": [
    "def compute_distances(center, graph):\n",
    "    distances = networkx.shortest_path_length(graph, center)\n",
    "    \n",
    "    return distances\n",
    "\n",
    "def compute_embedding(distances, radius, graph):\n",
    "    B = []\n",
    "    s = 0\n",
    "    nodes = {}\n",
    "    for v in graph.nodes():\n",
    "        if distances[v] <= radius:\n",
    "            B.append(1)\n",
    "            s = s + 1\n",
    "        else:\n",
    "            B.append(0)\n",
    "            \n",
    "    return numpy.array(B)\n",
    "\n",
    "def generate_dyn_syn(graph, diam, duration, n):\n",
    "    dyn_graph = []\n",
    "    Fs = []\n",
    "    \n",
    "    for j in range(n):\n",
    "        v = random.randint(0, len(G.nodes())-1)\n",
    "        distances = compute_distances(G.nodes()[v], G)\n",
    "\n",
    "        if diam > duration:\n",
    "            num_snaps = diam\n",
    "        else:\n",
    "            num_snaps = duration\n",
    "     \n",
    "        for i in range(num_snaps):\n",
    "            r = int(i * math.ceil(float(diam)/duration))\n",
    "        \n",
    "            F = compute_embedding(distances, r, graph)\n",
    "            Fs.append(F)\n",
    "        \n",
    "    return numpy.array(Fs)"
   ]
  },
  {
   "cell_type": "markdown",
   "metadata": {},
   "source": [
    "# Stacked graph model"
   ]
  },
  {
   "cell_type": "code",
   "execution_count": 10,
   "metadata": {
    "collapsed": false
   },
   "outputs": [],
   "source": [
    "def build_stacked_graph_dense(G, FT):\n",
    "    GT = networkx.Graph()\n",
    "    values = {}\n",
    "    \n",
    "    for e in G.edges():\n",
    "        v1 = str(e[0])+\"-0\"\n",
    "        v2 = str(e[1])+\"-0\"\n",
    "        GT.add_edge(v1, v2)\n",
    "    \n",
    "    for t in range(1, FT.shape[0]):\n",
    "        for e in G.edges():\n",
    "            v1 = str(e[0])+\"-\"+str(t)\n",
    "            v2 = str(e[1])+\"-\"+str(t)\n",
    "            GT.add_edge(v1, v2)\n",
    "                      \n",
    "    for t in range(0, FT.shape[0]-1):\n",
    "        for v in G.nodes():\n",
    "            GT.add_edge(str(v)+\"-\"+str(t), str(v)+\"-\"+str(t+1))\n",
    "            for n in G.neighbors(v):\n",
    "                GT.add_edge(str(v)+\"-\"+str(t), str(n)+\"-\"+str(t+1))\n",
    "    \n",
    "    F = []\n",
    "    for t in range(0, FT.shape[0]):\n",
    "        i = 0\n",
    "        for v in G.nodes():\n",
    "            GT.node[str(v)+\"-\"+str(t)][\"value\"] = FT[t][i]\n",
    "            i = i + 1\n",
    "    \n",
    "    for v in GT.nodes():\n",
    "        F.append(GT.node[v][\"value\"])\n",
    "    \n",
    "    return GT, numpy.array(F)\n",
    "\n",
    "def values_stacked_graph(F, G, G_unstacked):\n",
    "    FT = []\n",
    "    snps = int(len(F)/len(G_unstacked.nodes()))\n",
    "    \n",
    "    values = {}\n",
    "    i = 0\n",
    "    for v in G.nodes():\n",
    "        values[v] = F[i]\n",
    "        i = i + 1\n",
    "        \n",
    "    for t in range(snps):\n",
    "        FT.append([])\n",
    "        for v in G_unstacked.nodes():\n",
    "            FT[t].append(values[str(v)+\"-\"+str(t)])\n",
    "    \n",
    "    return numpy.array(FT)"
   ]
  },
  {
   "cell_type": "markdown",
   "metadata": {},
   "source": [
    "# Spectral Domain Wavelets"
   ]
  },
  {
   "cell_type": "markdown",
   "metadata": {},
   "source": [
    "## Scaling"
   ]
  },
  {
   "cell_type": "code",
   "execution_count": 11,
   "metadata": {
    "collapsed": false
   },
   "outputs": [],
   "source": [
    "def s(x):\n",
    "    return -5 + 11*x - 6*pow(x, 2) + pow(x, 3)\n",
    "\n",
    "def g(x):\n",
    "    a = 2\n",
    "    b = 2\n",
    "    x_1 = 1\n",
    "    x_2 = 2\n",
    "    \n",
    "    if x < x_1:\n",
    "        return pow(x_1, -a)*pow(x, a)\n",
    "    elif x <= x_2 and x >= x_1:\n",
    "        return s(x)\n",
    "    else:\n",
    "        return pow(x_2, b)*pow(x, -b)\n",
    "\n",
    "def comp_gamma():\n",
    "    gn = lambda x: -1 * g(x)\n",
    "    xopt = scipy.optimize.fminbound(gn, 1, 2)\n",
    "    return xopt\n",
    "\n",
    "def h(x, gamma, lamb_max, K):\n",
    "    lamb_min = float(lamb_max) / K\n",
    "    return gamma * math.exp(-pow(float(x/(lamb_min * 0.6)), 4))\n",
    "\n",
    "def comp_scales(lamb_max, K, J):\n",
    "    lamb_min = float(lamb_max) / K\n",
    "    s_min = float(1)/lamb_max\n",
    "    s_max = float(2)/lamb_min\n",
    "    \n",
    "    return numpy.exp(numpy.linspace(math.log(s_max), math.log(s_min), J))\n",
    "    \n",
    "gamma = comp_gamma()"
   ]
  },
  {
   "cell_type": "markdown",
   "metadata": {},
   "source": [
    "## Wavelets"
   ]
  },
  {
   "cell_type": "code",
   "execution_count": 12,
   "metadata": {
    "collapsed": false
   },
   "outputs": [],
   "source": [
    "def graph_low_pass(lamb, U, N, T, gamma, lamb_max, K):\n",
    "    s = []\n",
    "    \n",
    "    for n in range(0, len(N)):\n",
    "        s.append([])\n",
    "        \n",
    "    for n in range(0, len(N)):\n",
    "        for m in range(0, len(U)):    \n",
    "            s_n_m = 0\n",
    "                \n",
    "            for x in range(0, len(U)):\n",
    "                s_n_m = s_n_m + U[n][x] * U[m][x] * h(T[-1] * lamb[x], gamma, lamb_max, K)\n",
    "                    \n",
    "            s[n].append(s_n_m)\n",
    "                \n",
    "    return s\n",
    "\n",
    "def graph_wavelets(lamb, U, N, T):\n",
    "    w = []\n",
    "    \n",
    "    for t in range(0, len(T)):\n",
    "        w.append([])\n",
    "        for n in range(0, len(N)):\n",
    "            w[t].append([])\n",
    "            \n",
    "    \n",
    "    for t in range(0, len(T)):\n",
    "        for n in range(0, len(N)):\n",
    "            for m in range(0, len(U)):    \n",
    "                w_t_n_m = 0\n",
    "                \n",
    "                for x in range(0, len(U)):\n",
    "                    w_t_n_m = w_t_n_m + U[n][x] * U[m][x] * g(T[t] * lamb[x])\n",
    "                    \n",
    "                w[t][n].append(w_t_n_m)\n",
    "    \n",
    "    return w"
   ]
  },
  {
   "cell_type": "markdown",
   "metadata": {},
   "source": [
    "# Graph Fourier Approaches"
   ]
  },
  {
   "cell_type": "markdown",
   "metadata": {},
   "source": [
    "## 2D-Fourier"
   ]
  },
  {
   "cell_type": "code",
   "execution_count": 13,
   "metadata": {
    "collapsed": false
   },
   "outputs": [],
   "source": [
    "def graph_fourier(F, U):\n",
    "    lambdas = []\n",
    "\n",
    "    for i in range(0, len(U)):\n",
    "        lambdas.append(numpy.dot(F, U[:,i]))    \n",
    "    \n",
    "    lambdas = numpy.array(lambdas)\n",
    "\n",
    "    return lambdas\n",
    "\n",
    "def graph_fourier_inverse(GF, U):\n",
    "    F = numpy.zeros(U.shape[0])\n",
    "    for v in range(U.shape[0]):\n",
    "        for u in range(U.shape[1]):\n",
    "            F[v] = F[v] + GF[u]*U[v][u]\n",
    "    \n",
    "    return F\n",
    "    \n",
    "def fourier_transform(F):\n",
    "    return fft(F)\n",
    "\n",
    "def fourier_inverse(FT):\n",
    "    return ifft(FT)\n",
    "\n",
    "class TwoDFourier(object):    \n",
    "        def name(self):\n",
    "            return \"2DFourier\"\n",
    "    \n",
    "        def set_graph(self, _G):\n",
    "            self.G = _G\n",
    "            L = networkx.normalized_laplacian_matrix(G)\n",
    "            L = L.todense()\n",
    "            self.U, self.lamb_str = compute_eigenvectors_and_eigenvalues(L)\n",
    "        \n",
    "        def transform(self, F):\n",
    "            \"\"\"\n",
    "            \"\"\"\n",
    "            f1 = []\n",
    "            for a in range(F.shape[0]):\n",
    "                gf = graph_fourier(F[a], self.U)\n",
    "                f1.append(gf)\n",
    "    \n",
    "            f1 = numpy.array(f1)\n",
    "            f2 = []\n",
    "            for u in range(f1.shape[1]):\n",
    "                ft = fourier_transform(f1[:,u])\n",
    "                f2.append(ft)\n",
    "        \n",
    "            f2 = numpy.array(f2)\n",
    "    \n",
    "            return f2\n",
    "\n",
    "        def inverse(self, ftr):\n",
    "            \"\"\"\n",
    "            \"\"\"\n",
    "            f1 = []\n",
    "            for a in range(ftr.shape[0]):\n",
    "                ft = fourier_inverse(ftr[a])\n",
    "                f1.append(ft)\n",
    "    \n",
    "            f1 = numpy.array(f1).transpose()\n",
    "            F = []    \n",
    "    \n",
    "            for v in range(f1.shape[0]):\n",
    "                gf = graph_fourier_inverse(f1[v], self.U)\n",
    "                F.append(gf)\n",
    "        \n",
    "            return numpy.array(F)\n",
    "\n",
    "        def drop_frequency(self, ftr, n):\n",
    "            coeffs = {}\n",
    "    \n",
    "            for i in range(ftr.shape[0]):\n",
    "                for j in range(ftr.shape[1]):\n",
    "                    coeffs[(i,j)] = abs(ftr[i][j])\n",
    "            \n",
    "            sorted_coeffs = sorted(coeffs.items(), key=operator.itemgetter(1), reverse=True)\n",
    "            \n",
    "            ftr_copy = numpy.copy(ftr)\n",
    "            \n",
    "            for k in range(n, len(sorted_coeffs)):\n",
    "                i = sorted_coeffs[k][0][0]\n",
    "                j = sorted_coeffs[k][0][1]\n",
    "        \n",
    "                ftr_copy[i][j] = 0\n",
    "                    \n",
    "            return ftr_copy\n",
    "\n",
    "class OneDFourier(object):\n",
    "    def name(self):\n",
    "        return \"1DFourier\"\n",
    "    \n",
    "    def set_graph(self, _G):\n",
    "        self.G_unstacked = _G\n",
    "                \n",
    "    def transform(self, _F):\n",
    "        \"\"\"\n",
    "        \"\"\"\n",
    "        (self.G, self.F) = build_stacked_graph_dense(self.G_unstacked, _F)\n",
    "        L = networkx.normalized_laplacian_matrix(self.G)\n",
    "        L = L.todense()\n",
    "        self.U, self.lamb_str = compute_eigenvectors_and_eigenvalues(L)\n",
    "\n",
    "        return graph_fourier(self.F, self.U)\n",
    "    \n",
    "    def inverse(self, ftr):\n",
    "        \"\"\"\n",
    "        \"\"\"\n",
    "        inv_stacked = graph_fourier_inverse(ftr, self.U)\n",
    "        \n",
    "        return values_stacked_graph(inv_stacked, self.G, self.G_unstacked)\n",
    "            \n",
    "    def drop_frequency(self, ftr, n):\n",
    "        \"\"\"\n",
    "        \"\"\"\n",
    "        coeffs = {}\n",
    "    \n",
    "        for i in range(len(ftr)):\n",
    "            coeffs[i] = abs(ftr[i])\n",
    "            \n",
    "        sorted_coeffs = sorted(coeffs.items(), key=operator.itemgetter(1), reverse=True)\n",
    "        \n",
    "        ftr_copy = numpy.copy(ftr)\n",
    "        \n",
    "        for k in range(n, len(sorted_coeffs)):\n",
    "            i = sorted_coeffs[k][0]\n",
    "        \n",
    "            ftr_copy[i] = 0\n",
    "          \n",
    "        return ftr_copy  \n",
    "\n",
    "def L2(F, F_approx):\n",
    "    e = 0\n",
    "    for i in range(F.shape[0]):\n",
    "        e = e + ((F[i]-F_approx[i])**2).sum()\n",
    "    \n",
    "    return float(e)\n",
    "\n",
    "def L1(F, F_approx):\n",
    "    e = 0\n",
    "    for i in range(F.shape[0]):\n",
    "        e = e + (abs(F[i]-F_approx[i])).sum()\n",
    "    \n",
    "    return float(e)\n",
    "    "
   ]
  },
  {
   "cell_type": "markdown",
   "metadata": {},
   "source": [
    "## GF+WV"
   ]
  },
  {
   "cell_type": "code",
   "execution_count": 14,
   "metadata": {
    "collapsed": false
   },
   "outputs": [],
   "source": [
    "def graph_fourier_wavelets(G, U, FT):\n",
    "    GF = []\n",
    "    for t in range(FT.shape[0]):\n",
    "        gf = graph_fourier(FT[t], U)\n",
    "        GF.append(gf)\n",
    "        \n",
    "    GF = numpy.array(GF).transpose()\n",
    "\n",
    "    WV = []\n",
    "    db1 = pywt.Wavelet('db1')\n",
    "\n",
    "    for f in range(GF.shape[0]):\n",
    "        coeffs = pywt.wavedec(GF[f], db1)\n",
    "        WV.append(coeffs)\n",
    "        \n",
    "    return WV\n",
    "\n",
    "def graph_fourier_wavelets_inverse(WV_GF, U):\n",
    "    GF = []\n",
    "    for a in range(len(WV_GF)):\n",
    "        ftr = pywt.waverec(WV_GF[a], 'db1')\n",
    "        GF.append(ftr)\n",
    "    \n",
    "    GF = numpy.array(GF).transpose()\n",
    "    F = []    \n",
    "    \n",
    "    for v in range(GF.shape[0]):\n",
    "        gf = graph_fourier_inverse(GF[v], U)\n",
    "        F.append(gf)\n",
    "        \n",
    "    return numpy.array(F)\n",
    "\n",
    "def graph_fourier_wavelets_filter(WV_GF, n):\n",
    "    coeffs = {}\n",
    "    \n",
    "    for i in range(len(WV_GF)):\n",
    "        for j in range(len(WV_GF[i])):\n",
    "            for k in range(len(WV_GF[i][j])):\n",
    "                coeffs[(i,j,k)] = abs(WV_GF[i][j][k])\n",
    "            \n",
    "    sorted_coeffs = sorted(coeffs.items(), key=operator.itemgetter(1), reverse=True)\n",
    "    \n",
    "    for k in range(n, len(sorted_coeffs)):\n",
    "        i = sorted_coeffs[k][0][0]\n",
    "        j = sorted_coeffs[k][0][1]\n",
    "        m = sorted_coeffs[k][0][2]\n",
    "        \n",
    "        WV_GF[i][j][m] = 0\n",
    "    \n",
    "    return WV_GF"
   ]
  },
  {
   "cell_type": "markdown",
   "metadata": {},
   "source": [
    "# Graph Wavelet Approaches"
   ]
  },
  {
   "cell_type": "markdown",
   "metadata": {},
   "source": [
    "## Hammond's"
   ]
  },
  {
   "cell_type": "code",
   "execution_count": 15,
   "metadata": {
    "collapsed": false
   },
   "outputs": [],
   "source": [
    "def hammond_wavelet_transform(w, s, T, F):\n",
    "    C = []\n",
    "\n",
    "    for i in range(len(T)):\n",
    "        C.append([])\n",
    "        for j in range(len(F)):\n",
    "            dotp = numpy.dot(F, w[i][j])\n",
    "            C[i].append(dotp)\n",
    "            \n",
    "    C.append([])\n",
    "    for j in range(len(F)):\n",
    "        dotp = numpy.dot(F, s[j])\n",
    "        C[-1].append(dotp)\n",
    "                      \n",
    "    return numpy.array(C)\n",
    "\n",
    "def hammond_wavelets_inverse(w, s, C):\n",
    "    w = numpy.array(w)\n",
    "    Wc = numpy.append(w, numpy.array([s]), axis=0)\n",
    "    \n",
    "    nWc = Wc[0,:,:]\n",
    "    nC = C[0]\n",
    "    for i in range(1,Wc.shape[0]):\n",
    "        nWc = numpy.append(nWc, Wc[i,:,:], axis=0)\n",
    "        nC = numpy.append(nC, C[i], axis=0)\n",
    "    \n",
    "    nWc = numpy.array(nWc)\n",
    "    nC = numpy.array(nC)\n",
    "    \n",
    "    F = numpy.linalg.lstsq(nWc, nC)[0]\n",
    "    \n",
    "    return F\n",
    "       \n",
    "class TwoDHWavelets(object):\n",
    "        def name(self):\n",
    "            return \"2DWavelets\"\n",
    "        \n",
    "        def set_graph(self, _G):\n",
    "            self.G = _G\n",
    "            L = networkx.normalized_laplacian_matrix(G)\n",
    "            L = L.todense()\n",
    "            self.U, self.lamb_str = compute_eigenvectors_and_eigenvalues(L)\n",
    "            lamb_max = max(self.lamb_str)\n",
    "            K = 10\n",
    "            J = 10\n",
    "            self.T = comp_scales(lamb_max, K, J)\n",
    "            self.w = graph_wavelets(self.lamb_str, self.U, range(len(G.nodes())), self.T)\n",
    "            self.s = graph_low_pass(self.lamb_str, self.U, range(len(G.nodes())), self.T, gamma, lamb_max, K)\n",
    "        \n",
    "        def transform(self, F):\n",
    "            \"\"\"\n",
    "            \"\"\"\n",
    "            f1 = []\n",
    "            for a in range(F.shape[0]):\n",
    "                wv = hammond_wavelet_transform(self.w, self.s, self.T, F[a])\n",
    "                f1.append(wv)\n",
    "    \n",
    "            db1 = pywt.Wavelet('db1')\n",
    "    \n",
    "            f1 = numpy.array(f1)\n",
    "            f2 = []\n",
    "                             \n",
    "            for a in range(f1.shape[1]):\n",
    "                f2.append([])\n",
    "                for v in range(f1.shape[2]):\n",
    "                    wv = pywt.wavedec(f1[:,a,v], db1)\n",
    "                    f2[a].append(wv)\n",
    "        \n",
    "            return f2\n",
    "    \n",
    "        def inverse(self, wtr):\n",
    "            \"\"\"\n",
    "            \"\"\"\n",
    "            f1 = []\n",
    "            for a in range(len(wtr)):\n",
    "                f1.append([])\n",
    "                for v in range(len(wtr[a])):\n",
    "                    wv = pywt.waverec(wtr[a][v], 'db1')\n",
    "                    f1[a].append(wv)\n",
    "            F = []    \n",
    "            f1 = numpy.array(f1).transpose((2,0,1))\n",
    "                        \n",
    "            for t in range(f1.shape[0]):\n",
    "                f = hammond_wavelets_inverse(self.w, self.s, f1[t])\n",
    "                F.append(f)\n",
    "        \n",
    "            return numpy.array(F)\n",
    "\n",
    "        def drop_frequency(self, wtr, n):\n",
    "            coeffs = {}\n",
    "            for i in range(len(wtr)):\n",
    "                for j in range(len(wtr[i])):\n",
    "                    for m in range(len(wtr[i][j])):\n",
    "                        for p in range(len(wtr[i][j][m])):\n",
    "                            coeffs[(i,j,m,p)] = abs(wtr[i][j][m][p])\n",
    "                        \n",
    "            sorted_coeffs = sorted(coeffs.items(), key=operator.itemgetter(1), reverse=True)\n",
    "            \n",
    "            wtr_copy = copy.deepcopy(wtr)\n",
    "                         \n",
    "            for k in range(n, len(sorted_coeffs)):\n",
    "                i = sorted_coeffs[k][0][0]\n",
    "                j = sorted_coeffs[k][0][1]\n",
    "                m = sorted_coeffs[k][0][2]\n",
    "                p = sorted_coeffs[k][0][3]\n",
    "                \n",
    "                wtr_copy[i][j][m][p] = 0.0\n",
    "                \n",
    "            return wtr_copy\n",
    "\n",
    "class OneDHWavelets(object):\n",
    "    def name(self):\n",
    "        return \"1DWavelets\"\n",
    "    \n",
    "    def set_graph(self, _G):\n",
    "        self.G_unstacked = _G\n",
    "                \n",
    "    def transform(self, _F):\n",
    "        \"\"\"\n",
    "        \"\"\"\n",
    "        (self.G, self.F) = build_stacked_graph_dense(self.G_unstacked, _F)\n",
    "        L = networkx.normalized_laplacian_matrix(self.G)\n",
    "        L = L.todense()\n",
    "        self.U, self.lamb_str = compute_eigenvectors_and_eigenvalues(L)\n",
    "        lamb_max = max(self.lamb_str)\n",
    "        K = 10\n",
    "        J = 10\n",
    "        self.T = comp_scales(lamb_max, K, J)\n",
    "        self.w = graph_wavelets(self.lamb_str, self.U, range(len(self.G.nodes())), self.T)\n",
    "        self.s = graph_low_pass(self.lamb_str, self.U, range(len(self.G.nodes())), self.T, gamma, lamb_max, K)\n",
    "\n",
    "        return hammond_wavelet_transform(self.w, self.s, self.T, self.F)\n",
    "    \n",
    "    def inverse(self, wtr):\n",
    "        \"\"\"\n",
    "        \"\"\"\n",
    "        inv_stacked =  hammond_wavelets_inverse(self.w, self.s, wtr)\n",
    "        \n",
    "        return values_stacked_graph(inv_stacked, self.G, self.G_unstacked)\n",
    "    \n",
    "    def drop_frequency(self, wtr, n):\n",
    "        coeffs = {}\n",
    "    \n",
    "        for i in range(wtr.shape[0]):\n",
    "            for j in range(wtr.shape[1]):\n",
    "                coeffs[(i,j)] = abs(wtr[i][j])\n",
    "            \n",
    "        sorted_coeffs = sorted(coeffs.items(), key=operator.itemgetter(1), reverse=True)\n",
    "            \n",
    "        wtr_copy = numpy.copy(wtr)\n",
    "            \n",
    "        for k in range(n, len(sorted_coeffs)):\n",
    "            i = sorted_coeffs[k][0][0]\n",
    "            j = sorted_coeffs[k][0][1]\n",
    "        \n",
    "            wtr_copy[i][j] = 0\n",
    "                    \n",
    "        return wtr_copy"
   ]
  },
  {
   "cell_type": "markdown",
   "metadata": {},
   "source": [
    "## Gavish's"
   ]
  },
  {
   "cell_type": "code",
   "execution_count": 16,
   "metadata": {
    "collapsed": false
   },
   "outputs": [
    {
     "ename": "IndentationError",
     "evalue": "expected an indented block (<ipython-input-16-a84c3ae44f87>, line 3)",
     "output_type": "error",
     "traceback": [
      "\u001b[1;36m  File \u001b[1;32m\"<ipython-input-16-a84c3ae44f87>\"\u001b[1;36m, line \u001b[1;32m3\u001b[0m\n\u001b[1;33m    def gavish_wavelet_inverse():\u001b[0m\n\u001b[1;37m      ^\u001b[0m\n\u001b[1;31mIndentationError\u001b[0m\u001b[1;31m:\u001b[0m expected an indented block\n"
     ]
    }
   ],
   "source": [
    "def build_matrix(G, ind):\n",
    "    M = []\n",
    "    dists = all_pairs_shortest_path(G)\n",
    "    \n",
    "    M = numpy.zeros((len(G.nodes()), len(G.nodes())))\n",
    "    \n",
    "    for v1 in G.nodes():\n",
    "        for v2 in G.nodes():\n",
    "            M[ind[v1]][ind[v2]] = dists[v1][v2]\n",
    "    \n",
    "    return M\n",
    "\n",
    "def select_centroids(M, radius):\n",
    "    nodes = range(M.shape[0])\n",
    "    rand_nodes = random.shuffle(nodes)\n",
    "    cents = [rand_nodes[0]]\n",
    "    \n",
    "    for i in range(1, len(rand_nodes)):\n",
    "        add = True\n",
    "        for j in range(len(cents)):\n",
    "            if M[cents[j][rand_nodes[i] < radius:\n",
    "                add = False\n",
    "                break\n",
    "        if add:\n",
    "            cents.append(rand_nodes[i])\n",
    "                          \n",
    "    return cents\n",
    "                          \n",
    "def coarse_matrix(M, cents):\n",
    "    Q = numpy.zeros((len(cents), len(cents)))\n",
    "    assigns = []\n",
    "    \n",
    "    for i in range(len(cents)):\n",
    "        assigns.append([])\n",
    "                          \n",
    "    for i in range(M.shape[0]):\n",
    "        min_dist = M[i][cents[0]]\n",
    "        min_cent = 0\n",
    "                          \n",
    "        for j in range(1, len(cents)):\n",
    "            if M[i][cents[j]] < min_dist:\n",
    "                min_dist = M[i][cents[j]]\n",
    "                min_cent = j\n",
    "                          \n",
    "        assigns[min_cent].append(i)\n",
    "                          \n",
    "    for i in range(len(cents)):\n",
    "        for j in range(len(cents)):\n",
    "            for m in assigns[i]:\n",
    "                for k in assigns[j]:\n",
    "                    Q[i][j] = Q[i][j] + pow(M[m][k], 2)\n",
    "                          \n",
    "    return Q, assigns\n",
    "    \n",
    "def gavish_hierarchy(G, radius):\n",
    "        H = []\n",
    "                   \n",
    "        ind = {}\n",
    "        i = 0\n",
    "        for v in G.nodes():\n",
    "            ind[v] = i\n",
    "            i = i + 1\n",
    "            \n",
    "        M = build_matrix(G, ind)\n",
    "                          \n",
    "        while M.shape[0] > 1:\n",
    "            cents = select_centroids(M, radius)\n",
    "            Q, assigns = coarser_matrix(M, cents)\n",
    "            H.append(assigns)\n",
    "                         \n",
    "    return H, ind\n",
    "\n",
    "def gavish_wavelet_transform(tree, ind, G, F):\n",
    "    avgs = numpy.zeros(F.shape[0])\n",
    "    i = 0                      \n",
    "    for v in G.nodes():\n",
    "       avgs[ind[v]] = F[i]\n",
    "        i = i + 1\n",
    "    \n",
    "    wtr = [avgs]\n",
    "                          \n",
    "    for i in range(len(tree)):\n",
    "        up_avgs = numpy.zeros(len(tree[i]))\n",
    "        counts = numpy.zeros(len(tree[i]))\n",
    "        \n",
    "        for j in range(avgs.shape[0]):\n",
    "            up_avgs[tree[i][j]] =  up_avgs[tree[i][j]] + avgs[j]\n",
    "            counts[tree[i][j]] =  counts[tree[i][j]] + 1 \n",
    "                          \n",
    "        for j in range(ups_avgs.shape[0]):\n",
    "            ups_avgs[j] = float(ups_avgs[j]) / counts[j]\n",
    "        \n",
    "        wtr.append(ups_avgs)\n",
    "                          \n",
    "    return wtr\n",
    "                          \n",
    "def gavish_wavelet_inverse(tree, ind, G, wtr):\n",
    "    \n",
    "\n",
    "class OneDGWavelets(object):\n",
    "    def name(self):\n",
    "        return \"1DGWavelets\"\n",
    "    \n",
    "    def set_graph(self, _G):\n",
    "        self.G_unstacked = _G\n",
    "                \n",
    "    def transform(self, _F):\n",
    "        \"\"\"\n",
    "        \"\"\"\n",
    "        (self.G, self.F) = build_stacked_graph_dense(self.G_unstacked, _F)\n",
    "        (self.tree, self.ind) = gavish_hierarchy(G, 0)\n",
    "        \n",
    "        return gavish_wavelet_transform(self.tree, self.ind, self.G, self.F)\n",
    "    \n",
    "    def inverse(self, wtr):\n",
    "        \"\"\"\n",
    "        \"\"\"\n",
    "        inv_stacked =  gavish_wavelets_inverse(self.tree, self.ind, self.G, wtr)\n",
    "        \n",
    "        return values_stacked_graph(inv_stacked, self.G, self.G_unstacked)\n",
    "    \n",
    "    def drop_frequency(self, wtr, n):\n",
    "        coeffs = {}\n",
    "    \n",
    "        for i in range(wtr.shape[0]):\n",
    "            for j in range(wtr.shape[1]):\n",
    "                coeffs[(i,j)] = abs(wtr[i][j])\n",
    "            \n",
    "        sorted_coeffs = sorted(coeffs.items(), key=operator.itemgetter(1), reverse=True)\n",
    "            \n",
    "        wtr_copy = numpy.copy(wtr)\n",
    "            \n",
    "        for k in range(n, len(sorted_coeffs)):\n",
    "            i = sorted_coeffs[k][0][0]\n",
    "            j = sorted_coeffs[k][0][1]\n",
    "        \n",
    "            wtr_copy[i][j] = 0\n",
    "                    \n",
    "        return wtr_copy    "
   ]
  },
  {
   "cell_type": "markdown",
   "metadata": {},
   "source": [
    "# SVD approach"
   ]
  },
  {
   "cell_type": "code",
   "execution_count": 17,
   "metadata": {
    "collapsed": false
   },
   "outputs": [],
   "source": [
    "def svd_transform(FT):\n",
    "    svd_u, svd_s, svd_v = numpy.linalg.svd(FT, full_matrices=True)\n",
    "    \n",
    "    return svd_u, svd_s, svd_v\n",
    "\n",
    "def svd_inverse(svd_u, svd_s, svd_v):\n",
    "    svd_S = numpy.zeros((svd_u.shape[1], svd_v.shape[0]), dtype=complex)\n",
    "    svd_S[:svd_s.shape[0], :svd_s.shape[0]] = numpy.diag(svd_s)\n",
    "    FT = numpy.dot(svd_u, numpy.dot(svd_S, svd_v))\n",
    "    \n",
    "    return numpy.real(FT)"
   ]
  },
  {
   "cell_type": "code",
   "execution_count": 18,
   "metadata": {
    "collapsed": false
   },
   "outputs": [],
   "source": [
    "def svd_filter(svd_u, svd_s, svd_v, n):\n",
    "    for k in range(n, len(svd_s)):\n",
    "        svd_s[k] = 0\n",
    "       \n",
    "    return svd_s    "
   ]
  },
  {
   "cell_type": "markdown",
   "metadata": {},
   "source": [
    "# Cascade on Karate Club Dataset"
   ]
  },
  {
   "cell_type": "code",
   "execution_count": null,
   "metadata": {
    "collapsed": false
   },
   "outputs": [],
   "source": [
    "G=networkx.karate_club_graph()\n",
    "syn_F = generate_dyn_syn(G, 4, 4, 4)"
   ]
  },
  {
   "cell_type": "code",
   "execution_count": null,
   "metadata": {
    "collapsed": false
   },
   "outputs": [],
   "source": [
    "#set_f(G, FT[1])\n",
    "\n",
    "#draw_graph_with_values(G, \"karate.dot\")\n",
    "\n",
    "#!sfdp -Goverlap=prism -Tsvg karate.dot > karate_1.svg\n",
    "\n",
    "#from IPython.display import SVG\n",
    "\n",
    "#SVG(filename='karate_1.svg')"
   ]
  },
  {
   "cell_type": "markdown",
   "metadata": {},
   "source": [
    "# Small traffic"
   ]
  },
  {
   "cell_type": "code",
   "execution_count": null,
   "metadata": {
    "collapsed": false
   },
   "outputs": [],
   "source": [
    "#G = read_graph(small_traffic[\"path\"] + \"traffic.graph\", small_traffic[\"path\"] + \"traffic_100.data\")\n",
    "\n",
    "#FT = read_dyn_graph(small_traffic[\"path\"] + \"traffic\", 2000, G)   "
   ]
  },
  {
   "cell_type": "code",
   "execution_count": null,
   "metadata": {
    "collapsed": false
   },
   "outputs": [],
   "source": [
    "#plt.clf()\n",
    "#heatmap = plt.pcolor(numpy.real(FT))\n",
    "#plt.ylim(0,2000)\n",
    "#plt.colorbar(heatmap)\n",
    "#plt.savefig(\"fourier_time_graph.png\")\n",
    "#Image(filename='fourier_time_graph.png')"
   ]
  },
  {
   "cell_type": "markdown",
   "metadata": {},
   "source": [
    "# Compression experiments"
   ]
  },
  {
   "cell_type": "code",
   "execution_count": 19,
   "metadata": {
    "collapsed": false
   },
   "outputs": [],
   "source": [
    "def compression_experiment(G, FT, algs):\n",
    "    comp_ratios = (.01, .02, .04, .08, .16, .32, .64, 1.28, 2.56)\n",
    "\n",
    "    results = {}\n",
    "    for alg in algs:\n",
    "        results[alg.name()] = []\n",
    "        alg.set_graph(G)\n",
    "        tr = alg.transform(FT)\n",
    "        for r in comp_ratios:\n",
    "            size = int(FT.size * r)\n",
    "            appx_tr = alg.drop_frequency(tr, size)\n",
    "            appx_FT = alg.inverse(appx_tr)\n",
    "            results[alg.name()].append([L2(FT, appx_FT), L1(FT, appx_FT)])\n",
    "            \n",
    "        results[alg.name()] = numpy.array(results[alg.name()]) \n",
    "                               \n",
    "    return results"
   ]
  },
  {
   "cell_type": "code",
   "execution_count": 20,
   "metadata": {
    "collapsed": false
   },
   "outputs": [],
   "source": [
    "def plot_compression_experiments(results, output_file_name):\n",
    "    comp_ratios = numpy.array([.01, .02, .04, .08, .16, .32, .64, 1.28, 2.56])\n",
    "    plt.clf()\n",
    "    for alg in results.keys():\n",
    "        plt.plot(comp_ratios, results[alg][:,0])\n",
    "        \n",
    "    plt.legend(results.keys())\n",
    "    \n",
    "    plt.savefig(output_file_name)"
   ]
  },
  {
   "cell_type": "markdown",
   "metadata": {},
   "source": [
    "## Karate club"
   ]
  },
  {
   "cell_type": "code",
   "execution_count": 33,
   "metadata": {
    "collapsed": true
   },
   "outputs": [],
   "source": [
    "G=networkx.karate_club_graph()\n",
    "syn_F = generate_dyn_syn(G, 4, 8, 2)"
   ]
  },
  {
   "cell_type": "code",
   "execution_count": 37,
   "metadata": {
    "collapsed": false
   },
   "outputs": [
    {
     "name": "stderr",
     "output_type": "stream",
     "text": [
      "/usr/local/lib/python2.7/dist-packages/ipykernel/__main__.py:27: ComplexWarning: Casting complex values to real discards the imaginary part\n",
      "/usr/local/lib/python2.7/dist-packages/ipykernel/__main__.py:31: ComplexWarning: Casting complex values to real discards the imaginary part\n",
      "/usr/local/lib/python2.7/dist-packages/ipykernel/__main__.py:23: ComplexWarning: Casting complex values to real discards the imaginary part\n",
      "/usr/local/lib/python2.7/dist-packages/ipykernel/__main__.py:24: ComplexWarning: Casting complex values to real discards the imaginary part\n",
      "/usr/local/lib/python2.7/dist-packages/ipykernel/__main__.py:137: ComplexWarning: Casting complex values to real discards the imaginary part\n",
      "/usr/local/lib/python2.7/dist-packages/ipykernel/__main__.py:15: ComplexWarning: Casting complex values to real discards the imaginary part\n"
     ]
    }
   ],
   "source": [
    "algs = [TwoDHWavelets(), OneDHWavelets(), TwoDFourier(), OneDFourier()]\n",
    "\n",
    "reskc = compression_experiment(G, syn_F, algs)"
   ]
  },
  {
   "cell_type": "code",
   "execution_count": 39,
   "metadata": {
    "collapsed": false
   },
   "outputs": [],
   "source": [
    "plot_compression_experiments(reskc, \"karate_compression_l2.png\")"
   ]
  },
  {
   "cell_type": "code",
   "execution_count": 40,
   "metadata": {
    "collapsed": false
   },
   "outputs": [
    {
     "data": {
      "image/png": "[encoded data removed]",
      "text/plain": [
       "<IPython.core.display.Image object>"
      ]
     },
     "execution_count": 40,
     "metadata": {},
     "output_type": "execute_result"
    }
   ],
   "source": [
    "Image(filename=\"karate_compression_l2.png\")"
   ]
  },
  {
   "cell_type": "markdown",
   "metadata": {},
   "source": [
    "## Small Traffic"
   ]
  },
  {
   "cell_type": "code",
   "execution_count": 41,
   "metadata": {
    "collapsed": false
   },
   "outputs": [],
   "source": [
    "G = read_graph(small_traffic[\"path\"] + \"traffic.graph\", small_traffic[\"path\"] + \"traffic_100.data\")\n",
    "\n",
    "FT = read_dyn_graph(small_traffic[\"path\"] + \"traffic\", 2000, G)  "
   ]
  },
  {
   "cell_type": "code",
   "execution_count": 42,
   "metadata": {
    "collapsed": false
   },
   "outputs": [
    {
     "name": "stderr",
     "output_type": "stream",
     "text": [
      "/usr/local/lib/python2.7/dist-packages/ipykernel/__main__.py:27: ComplexWarning: Casting complex values to real discards the imaginary part\n",
      "/usr/local/lib/python2.7/dist-packages/ipykernel/__main__.py:31: ComplexWarning: Casting complex values to real discards the imaginary part\n",
      "/usr/local/lib/python2.7/dist-packages/ipykernel/__main__.py:23: ComplexWarning: Casting complex values to real discards the imaginary part\n",
      "/usr/local/lib/python2.7/dist-packages/ipykernel/__main__.py:24: ComplexWarning: Casting complex values to real discards the imaginary part\n",
      "/usr/local/lib/python2.7/dist-packages/ipykernel/__main__.py:137: ComplexWarning: Casting complex values to real discards the imaginary part\n",
      "/usr/local/lib/python2.7/dist-packages/ipykernel/__main__.py:15: ComplexWarning: Casting complex values to real discards the imaginary part\n"
     ]
    }
   ],
   "source": [
    "algs = [TwoDHWavelets(), TwoDFourier()]\n",
    "\n",
    "restf = compression_experiment(G, FT, algs)"
   ]
  },
  {
   "cell_type": "code",
   "execution_count": 43,
   "metadata": {
    "collapsed": false
   },
   "outputs": [
    {
     "data": {
      "image/png": "[encoded data removed]",
      "text/plain": [
       "<IPython.core.display.Image object>"
      ]
     },
     "execution_count": 43,
     "metadata": {},
     "output_type": "execute_result"
    }
   ],
   "source": [
    "plot_compression_experiments(restf, \"karate_compression_l2.png\")\n",
    "Image(filename=\"karate_compression_l2.png\")"
   ]
  },
  {
   "cell_type": "code",
   "execution_count": 25,
   "metadata": {
    "collapsed": false
   },
   "outputs": [
    {
     "name": "stdout",
     "output_type": "stream",
     "text": [
      "{'2DWavelets': array([[ 15545202.63073381,   1184390.44019413],\n",
      "       [ 10650917.09832454,    975068.73459017],\n",
      "       [  6898072.05530147,    778877.82638619],\n",
      "       [  4128380.96786282,    598706.22803493],\n",
      "       [  2286844.95282959,    442693.00304149],\n",
      "       [  1166271.98626584,    317413.43745722],\n",
      "       [   530050.45375431,    221785.77765455],\n",
      "       [   202138.06638332,    144757.90799114],\n",
      "       [    55651.29385415,     78901.90003025]])}\n"
     ]
    }
   ],
   "source": [
    "print res"
   ]
  },
  {
   "cell_type": "code",
   "execution_count": null,
   "metadata": {
    "collapsed": true
   },
   "outputs": [],
   "source": []
  }
 ],
 "metadata": {
  "kernelspec": {
   "display_name": "Python 2",
   "language": "python",
   "name": "python2"
  },
  "language_info": {
   "codemirror_mode": {
    "name": "ipython",
    "version": 2
   },
   "file_extension": ".py",
   "mimetype": "text/x-python",
   "name": "python",
   "nbconvert_exporter": "python",
   "pygments_lexer": "ipython2",
   "version": "2.7.6"
  }
 },
 "nbformat": 4,
 "nbformat_minor": 0
}
